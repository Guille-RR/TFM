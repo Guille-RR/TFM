{
 "cells": [
  {
   "cell_type": "code",
   "execution_count": 1,
   "metadata": {},
   "outputs": [],
   "source": [
    "import json\n",
    "import numpy as np\n",
    "from qiskit.circuit import QuantumCircuit,QuantumRegister,ClassicalRegister\n",
    "from qiskit.circuit import ParameterVector\n",
    "from qiskit_aer import Aer\n",
    "from qiskit import transpile\n",
    "from qiskit_ibm_runtime import EstimatorV2 as Estimator\n",
    "from qiskit.quantum_info import SparsePauliOp,Operator, state_fidelity, Statevector, partial_trace, entropy\n",
    "import random\n",
    "from scipy.optimize import minimize, differential_evolution\n",
    "import pandas as pd\n",
    "import matplotlib.pyplot as plt\n",
    "import seaborn as sns"
   ]
  },
  {
   "cell_type": "markdown",
   "metadata": {},
   "source": [
    "# 2 qubit entanglement detection\n",
    "In this notebook I will se how we can detect 2 qubit entanglement using VQAs or similar procedures."
   ]
  },
  {
   "cell_type": "markdown",
   "metadata": {},
   "source": [
    "First we open the 4000 random unitaries form the json"
   ]
  },
  {
   "cell_type": "code",
   "execution_count": 2,
   "metadata": {},
   "outputs": [
    {
     "name": "stdout",
     "output_type": "stream",
     "text": [
      "4000\n"
     ]
    }
   ],
   "source": [
    "with open(r\"./random_unitaries_2q.json\", \"r\") as f:\n",
    "    loaded_data = json.load(f)\n",
    "\n",
    "# Convert back to NumPy arrays\n",
    "loaded_matrices = [\n",
    "    np.array(data[\"real\"]) + 1j * np.array(data[\"imag\"])\n",
    "    for data in loaded_data\n",
    "]\n",
    "print(len(loaded_matrices))"
   ]
  },
  {
   "cell_type": "markdown",
   "metadata": {},
   "source": [
    "We have now stored the 4000 complex matrices in the loaded_matrices vector.\n",
    "With this 4000 unitaries we will create a set of 2000 training states and 2000 test states.\n"
   ]
  },
  {
   "cell_type": "code",
   "execution_count": 3,
   "metadata": {},
   "outputs": [],
   "source": [
    "training = loaded_matrices[0:2000]\n",
    "test = loaded_matrices[2000:4000]"
   ]
  },
  {
   "cell_type": "code",
   "execution_count": 4,
   "metadata": {},
   "outputs": [
    {
     "data": {
      "text/plain": [
       "2000"
      ]
     },
     "execution_count": 4,
     "metadata": {},
     "output_type": "execute_result"
    }
   ],
   "source": [
    "len(training)"
   ]
  },
  {
   "cell_type": "markdown",
   "metadata": {},
   "source": [
    "## Geometric measure of entanglement "
   ]
  },
  {
   "cell_type": "markdown",
   "metadata": {},
   "source": [
    "The first method we will review is the entanglement detection through the geometric measure (GME). This is a monotone which provides a quantification of how close this state is to the closest possible separable state. This closeness is calculated using the fideleity:\n",
    "$$F(|\\psi\\rangle , |\\phi\\rangle) = |\\langle \\psi | \\phi \\rangle|^2 $$\n",
    "We de define GME as:\n",
    "$$E(|\\psi \\rangle) = 1 - \\Lambda_{\\psi}^2$$\n",
    "Where the $\\Lambda_{\\psi}$ is defined as:\n",
    "$$\\Lambda_{\\psi}^2 = max_{|\\phi\\rangle \\in SEP} F(|\\psi\\rangle , |\\phi\\rangle) $$\n",
    "If E is zero we have that the quantum state is separable, otherwise it is entangled.\n",
    "\n",
    "By maximazing the fidelity, we try to obtain the closest separable state to the one we want to classify. It is worth noting that this procedure is possible because the set of separable states is a convex set."
   ]
  },
  {
   "cell_type": "code",
   "execution_count": 5,
   "metadata": {},
   "outputs": [],
   "source": [
    "backend = Aer.get_backend('statevector_simulator')"
   ]
  },
  {
   "cell_type": "markdown",
   "metadata": {},
   "source": [
    "For the cost function, we calculate the fidelity the two circuits by using the fidelity function provided by qiskit."
   ]
  },
  {
   "cell_type": "code",
   "execution_count": null,
   "metadata": {},
   "outputs": [],
   "source": [
    "def cost_fun(params,ansatz1,ansatz2,backend):\n",
    "    ansatz2 = ansatz2.assign_parameters(params)\n",
    "    isa_ansatz = transpile(ansatz1,backend=backend)\n",
    "    isa_ansatz2 = transpile(ansatz2,backend=backend)\n",
    "    sv1 = Statevector(isa_ansatz)\n",
    "    sv2 = Statevector(isa_ansatz2)\n",
    "    fid = state_fidelity(sv1,sv2)\n",
    "    return -fid"
   ]
  },
  {
   "cell_type": "markdown",
   "metadata": {},
   "source": [
    "For the benchmarking of this method, I define 3 quantum variational circuits:\n",
    "1. ansatz_sep: variational quantum circuit with 6 parameters. I selected this ansatz because the 3 possible rotations (rx,ry,rz) consider every single state in the Bloch Sphere for each qubit. There is no entangling gates, which makes this ansatz separable.\n",
    "2. qc: the first named qc quantum circuit creates the entangled state using the unitaries from the random unitary training dataset.\n",
    "3. qc: the second qc quantum circuit creates a separable state using the unitaries from the traininf dataset."
   ]
  },
  {
   "cell_type": "code",
   "execution_count": null,
   "metadata": {},
   "outputs": [],
   "source": [
    "len(training)/8"
   ]
  },
  {
   "cell_type": "code",
   "execution_count": null,
   "metadata": {},
   "outputs": [],
   "source": [
    "ansatz_sep = QuantumCircuit(2)\n",
    "params = ParameterVector('θ',6)\n",
    "ansatz_sep.ry(params[0],0)\n",
    "ansatz_sep.rx(params[1],0)\n",
    "ansatz_sep.ry(params[2],1)\n",
    "ansatz_sep.rx(params[3],1)\n",
    "ansatz_sep.rz(params[4],0)\n",
    "ansatz_sep.rz(params[5],1)\n",
    "real_label= []\n",
    "q = 0\n",
    "geom_entr = []\n",
    "for i in range(0,int(len(training)/8),2):\n",
    "    print(f'State {q}')\n",
    "    q+=1\n",
    "    x0 = np.random.rand(6) * 2 * np.pi\n",
    "    rand_num = np.random.rand()\n",
    "    # We select randomely if the generated state is entangled or not\n",
    "    if rand_num <= 1/3:   \n",
    "        # Entangled state generator\n",
    "        real_label.append(1)\n",
    "        x0 = np.random.rand(6) * 2 * np.pi\n",
    "        qc =QuantumCircuit(2)\n",
    "        qc.h(0)# We first create the  Bell state\n",
    "        qc.cx(0,1)\n",
    "        U_ = np.kron(training[i],training[i+1])# We do the tensor product and create the entangled state\n",
    "        qc.unitary(Operator(U_), [0,1], label=\"U1⊗U2\")\n",
    "        qc.barrier()\n",
    "    elif rand_num>1/3 and rand_num<=2/3:\n",
    "        # Separated state\n",
    "        real_label.append(0)\n",
    "        x0 = np.random.rand(6) * 2 * np.pi\n",
    "        qc =QuantumCircuit(2)\n",
    "        U_ = np.kron(training[0],training[1])\n",
    "        qc.unitary(Operator(U_), [0,1], label=\"U1⊗U2\")\n",
    "        qc.barrier()\n",
    "    elif rand_num>2/3:\n",
    "        # Non maximally entangled state\n",
    "        real_label.append(1)\n",
    "        r = np.random.rand(4) # We create a vector of 4 random amplitudes\n",
    "        r_norm = r/np.linalg.norm(r) # We normalize the vector\n",
    "        phi = np.random.rand(4) * 2 * np.pi # We create a random phase\n",
    "        target_state = np.array([\n",
    "            r_norm[0] * np.exp(1j * phi[0]),\n",
    "            r_norm[1] * np.exp(1j * phi[1]),\n",
    "            r_norm[2] * np.exp(1j * phi[2]),\n",
    "            r_norm[3] * np.exp(1j * phi[3])\n",
    "        ])\n",
    "        target_state = Statevector(target_state)\n",
    "        qc = QuantumCircuit(2)\n",
    "        qc.initialize(target_state.data, [0, 1]) # We initialize the state\n",
    "        qc.barrier()\n",
    "    res = minimize(cost_fun,x0,args = (qc,ansatz_sep,backend),method='cobyla',tol=0.1)\n",
    "    geom_entr.append(-res['fun'])\n",
    "    "
   ]
  },
  {
   "cell_type": "code",
   "execution_count": null,
   "metadata": {},
   "outputs": [],
   "source": [
    "E = [(1 - p**2) for p in geom_entr]\n",
    "for i in range(len(E)):\n",
    "    # I set a bound at 0.1 for classification of separable and entangled\n",
    "    if E[i] < 0.01:\n",
    "        E[i]=0\n",
    "    elif E[i]>=0.01:\n",
    "        E[i]=1\n",
    "q= 0\n",
    "for z in range(len(real_label)):\n",
    "    if E[z]==real_label[z]:\n",
    "        q+=1\n",
    "print(f'The method`s accuaracy is {(q/len(real_label))*100}%')"
   ]
  },
  {
   "cell_type": "markdown",
   "metadata": {},
   "source": [
    "Now, I'll try to implement the detection of non-maximally entangled 2-qubit states. These are defined by:\n",
    "$$|\\psi\\rangle = \\sum_{j=1}^{4}r_j e^{i\\phi_j}|u_j\\rangle$$\n",
    "Where $r_j \\geq 0$, $\\phi_j \\in [0,2\\pi]$ and $\\sum_{j=1}^{4}r_j = 1$. For qiskit, the basis we will take is the computational basis for the 2 qubit states such that:\n",
    "* $|1\\rangle == |00\\rangle$\n",
    "* $|2\\rangle == |01\\rangle$\n",
    "* $|3\\rangle == |10\\rangle$\n",
    "* $|4\\rangle == |11\\rangle$"
   ]
  },
  {
   "cell_type": "code",
   "execution_count": null,
   "metadata": {},
   "outputs": [],
   "source": [
    "r = np.random.rand(4) # We create a vector of 4 random amplitudes\n",
    "r_norm = r/np.linalg.norm(r) # We normalize the vector\n",
    "phi = np.random.rand(4) * 2 * np.pi # We create a random phase\n",
    "target_state = np.array([\n",
    "    r_norm[0] * np.exp(1j * phi[0]),\n",
    "    r_norm[1] * np.exp(1j * phi[1]),\n",
    "    r_norm[2] * np.exp(1j * phi[2]),\n",
    "    r_norm[3] * np.exp(1j * phi[3])\n",
    "])\n",
    "target_state = Statevector(target_state)\n",
    "qc = QuantumCircuit(2)\n",
    "qc.initialize(target_state.data, [0, 1]) "
   ]
  },
  {
   "cell_type": "markdown",
   "metadata": {},
   "source": [
    "Once non-maximally entangled states are used, the 1-D classification is not as clear as with only maximally entangled and serparable states. For the purpose of increasing the result a 1-D SVD, as it was proposed may be a good idea."
   ]
  },
  {
   "cell_type": "markdown",
   "metadata": {},
   "source": [
    "# 3 qubits\n",
    "First, I will if the entanglement geometric monotone can differenciate for 3 qubit pure separable and entangled states."
   ]
  },
  {
   "cell_type": "markdown",
   "metadata": {},
   "source": [
    "For 3 qubits, as in the [NNpaper](https://www.nature.com/articles/s41598-024-68213-0), we consider the 4 possible classes os pure states:, which will be generated using:\n",
    "\n",
    "3. W entangled state:  $|\\psi_W\\rangle = K_W \\left( a|001\\rangle + b|010\\rangle + c|100\\rangle + d|000\\rangle \\right)$\n",
    "\n",
    "\n",
    "\n",
    "\\begin{aligned}\n",
    "K_{\\text{GHZ}} &= \\frac{1}{1 + \\cos(\\delta) \\sin(\\delta) \\cos(\\alpha) \\cos(\\beta) \\cos(\\varphi)} \\\\\n",
    "K_W &= \\frac{1}{\\sqrt{a^2 + b^2 + c^2 + d^2}}\n",
    "\\end{aligned}\n",
    "\n",
    "Some of this parameters are bounded:$(a , b ,c,d)\\in (0,1)$."
   ]
  },
  {
   "cell_type": "markdown",
   "metadata": {},
   "source": [
    "1. Separable:  $|\\psi_{\\text{sep}}^{\\text{rand}}\\rangle_3 = U_1^{\\text{rand}} |0\\rangle \\otimes U_2^{\\text{rand}} |0\\rangle \\otimes U_3^{\\text{rand}} |0\\rangle$"
   ]
  },
  {
   "cell_type": "code",
   "execution_count": 6,
   "metadata": {},
   "outputs": [
    {
     "data": {
      "image/png": "[encoded data removed]",
      "text/plain": [
       "<Figure size 203.885x284.278 with 1 Axes>"
      ]
     },
     "execution_count": 6,
     "metadata": {},
     "output_type": "execute_result"
    }
   ],
   "source": [
    "qc = QuantumCircuit(3)\n",
    "qc.unitary(Operator(training[0]), [0], label=\"U1\")\n",
    "qc.unitary(Operator(training[1]), [1], label=\"U2\")\n",
    "qc.unitary(Operator(training[2]), [2], label=\"U3\")\n",
    "qc.draw('mpl')"
   ]
  },
  {
   "cell_type": "markdown",
   "metadata": {},
   "source": [
    "2. Bipartite entangled:  $\\psi_{BE}=U_1^{rand}|0\\rangle \\otimes \\left(U_2^{rand} \\otimes U_3^{rand}\\right) |\\psi_+\\rangle$"
   ]
  },
  {
   "cell_type": "code",
   "execution_count": 7,
   "metadata": {},
   "outputs": [
    {
     "data": {
      "image/png": "[encoded data removed]",
      "text/plain": [
       "<Figure size 454.719x284.278 with 1 Axes>"
      ]
     },
     "execution_count": 7,
     "metadata": {},
     "output_type": "execute_result"
    }
   ],
   "source": [
    "qc = QuantumCircuit(3)\n",
    "qc.unitary(Operator(training[0]), [0], label=\"U1\")\n",
    "qc.h(1)\n",
    "qc.cx(1,2)\n",
    "U_ = np.kron(training[1],training[2])\n",
    "qc.unitary(Operator(U_), [1,2], label=\"U2⊗U3\")\n",
    "qc.draw('mpl')"
   ]
  },
  {
   "cell_type": "markdown",
   "metadata": {},
   "source": [
    "3. GHZ states:  $|\\Psi_{\\text{GHZ}}\\rangle = \\sqrt{K_{\\text{GHZ}}} \\left( \\cos(\\delta)|0\\rangle|0\\rangle|0\\rangle + \\sin(\\delta)e^{i\\phi} |\\varphi_A\\rangle |\\varphi_B\\rangle |\\varphi_C\\rangle \\right)$\n",
    "\n",
    "Where we find:\n",
    "\n",
    "\\begin{aligned}\n",
    "|\\varphi_A\\rangle &= \\cos(\\alpha)|0\\rangle + \\sin(\\alpha)|1\\rangle \\\\\n",
    "|\\varphi_B\\rangle &= \\cos(\\beta)|0\\rangle + \\sin(\\beta)|1\\rangle \\\\\n",
    "|\\varphi_C\\rangle &= \\cos(\\gamma)|0\\rangle + \\sin(\\gamma)|1\\rangle\\\\\n",
    "K_{\\text{GHZ}} &= \\frac{1}{1 + \\cos(\\delta) \\sin(\\delta) \\cos(\\alpha) \\cos(\\beta) \\cos(\\varphi)}\n",
    "\\end{aligned}\n",
    "Where this parameters are bounded as: $(\\alpha , \\beta ,\\gamma)\\in (0,\\pi/2]$, $\\delta\\in (0,\\pi/4]$ and $\\phi\\in [0,2\\pi)$"
   ]
  },
  {
   "cell_type": "markdown",
   "metadata": {},
   "source": [
    "For this, I considered 4 qubits as to encode the cos(delta) sin(delta) I'll need to us a conditional rotation. Also, to encode the $\\phi$ states the Ry gate we'll be needed as, acting on $|0\\rangle$ it produces the desired states because:\n",
    "$$RY(\\theta) =\n",
    "\\begin{pmatrix}\n",
    "\\cos\\left(\\frac{\\theta}{2}\\right) & -\\sin\\left(\\frac{\\theta}{2}\\right) \\\\\n",
    "\\sin\\left(\\frac{\\theta}{2}\\right) & \\cos\\left(\\frac{\\theta}{2}\\right)\n",
    "\\end{pmatrix}$$"
   ]
  },
  {
   "cell_type": "markdown",
   "metadata": {},
   "source": [
    "We need to say that it is important to only apply a second layer of RY if and only if the state is in |1>. For this purpose we need to use the conditional ry rotations."
   ]
  },
  {
   "cell_type": "code",
   "execution_count": 8,
   "metadata": {},
   "outputs": [
    {
     "data": {
      "image/png": "[encoded data removed]",
      "text/plain": [
       "<Figure size 1290.83x284.278 with 1 Axes>"
      ]
     },
     "execution_count": 8,
     "metadata": {},
     "output_type": "execute_result"
    }
   ],
   "source": [
    "alpha_beta_gamma_bounds = (0, np.pi / 2)\n",
    "delta_bounds = (0, np.pi / 4)\n",
    "phi_bounds = (0, 2 * np.pi)\n",
    "alpha = np.random.uniform(*alpha_beta_gamma_bounds)\n",
    "beta = np.random.uniform(*alpha_beta_gamma_bounds)\n",
    "gamma = np.random.uniform(*alpha_beta_gamma_bounds)\n",
    "delta = np.random.uniform(*delta_bounds)\n",
    "phi = np.random.uniform(*phi_bounds)\n",
    "# Compute components\n",
    "cos_d = np.cos(delta)\n",
    "sin_d = np.sin(delta)\n",
    "cos_phi = np.cos(phi)\n",
    "cos_alpha = np.cos(alpha)\n",
    "cos_beta = np.cos(beta)\n",
    "cos_gamma = np.cos(gamma)\n",
    "sin_alpha = np.sin(alpha)\n",
    "sin_beta = np.sin(beta)\n",
    "sin_gamma = np.sin(gamma)\n",
    "# Componen\n",
    "amp_000 = cos_d\n",
    "\n",
    "# |φ_A φ_B φ_C>\n",
    "phi_A = np.array([np.cos(alpha), np.sin(alpha)])\n",
    "phi_B = np.array([np.cos(beta), np.sin(beta)])\n",
    "phi_C = np.array([np.cos(gamma), np.sin(gamma)])\n",
    "\n",
    "# Tensor product\n",
    "phi_ABC = np.kron(np.kron(phi_A, phi_B), phi_C)\n",
    "amp_phi = sin_d * np.exp(1j * phi)\n",
    "\n",
    "# Normalization constant, using this normalization there is some error as it doesn't return 1 for the normalized state, thus I will normalize the state using numpy normalization\n",
    "K_GHZ = 1 / (1 + cos_d * sin_d * cos_alpha * cos_beta * cos_gamma * cos_phi)\n",
    "sqrt_K = np.sqrt(K_GHZ)\n",
    "\n",
    "# Full state vector\n",
    "state = np.zeros(8, dtype=complex)\n",
    "state[0] = amp_000\n",
    "state += amp_phi * phi_ABC\n",
    "norm = np.linalg.norm(state)\n",
    "state /= norm\n",
    "# Create Statevector object\n",
    "psi = Statevector(state)\n",
    "qc = QuantumCircuit(3)\n",
    "qc.initialize(psi, [0, 1, 2])\n",
    "qc.draw('mpl')\n"
   ]
  },
  {
   "cell_type": "markdown",
   "metadata": {},
   "source": [
    "3. W-states\n",
    "For these states, we will use the following parameterized state:\n",
    "$$|\\psi_W \\rangle  = K_W \\left( a|001\\rangle + b|010\\rangle + c|100\\rangle + d |000\\rangle \\right)$$\n",
    "Where the parameters (a,b,c,d) are random parameters generated from a plain distribution in the interval (0,1)."
   ]
  },
  {
   "cell_type": "code",
   "execution_count": 9,
   "metadata": {},
   "outputs": [
    {
     "data": {
      "image/png": "[encoded data removed]",
      "text/plain": [
       "<Figure size 454.719x284.278 with 1 Axes>"
      ]
     },
     "execution_count": 9,
     "metadata": {},
     "output_type": "execute_result"
    }
   ],
   "source": [
    "\n",
    "a, b, c, d = np.random.rand(4)\n",
    "\n",
    "# Normalize\n",
    "norm = np.sqrt(a**2 + b**2 + c**2 + d**2)\n",
    "# We normalize the probabilities so the quantum state is normalized\n",
    "a, b, c, d = a/norm, b/norm, c/norm, d/norm\n",
    "\n",
    "# Define state vector in computational basis order: |000>, |001>, ..., |111>\n",
    "state_vector = [d, a, b, 0, c, 0, 0, 0]\n",
    "\n",
    "# Initialize circuit\n",
    "qc = QuantumCircuit(3)\n",
    "qc.initialize(state_vector, [0, 1, 2])\n",
    "qc.draw('mpl')"
   ]
  },
  {
   "cell_type": "markdown",
   "metadata": {},
   "source": [
    "## Three qubit entanglement detection"
   ]
  },
  {
   "cell_type": "code",
   "execution_count": 14,
   "metadata": {},
   "outputs": [
    {
     "name": "stdout",
     "output_type": "stream",
     "text": [
      "State 95\n"
     ]
    }
   ],
   "source": [
    "q=0\n",
    "for i in range(0,int(len(training )/7),3):\n",
    "    q+=1\n",
    "print(f'State {q}')\n"
   ]
  },
  {
   "cell_type": "code",
   "execution_count": 15,
   "metadata": {},
   "outputs": [],
   "source": [
    "def cost_fun(params,ansatz1,ansatz2,backend,cost_evolution_dict,q):\n",
    "    ansatz2 = ansatz2.assign_parameters(params)\n",
    "    isa_ansatz = transpile(ansatz1,backend=backend)\n",
    "    isa_ansatz2 = transpile(ansatz2,backend=backend)\n",
    "    sv1 = Statevector(isa_ansatz)\n",
    "    sv2 = Statevector(isa_ansatz2)\n",
    "    fid = state_fidelity(sv1,sv2)\n",
    "    cost_evolution_dict[f\"state_{q}\"][\"cost\"].append(-fid)\n",
    "    cost_evolution_dict[f\"state_{q}\"][\"angles\"].append(params)\n",
    "    cost_evolution_dict[f\"state_{q}\"][\"iteration\"].append(len(cost_evolution_dict[f\"state_{q}\"][\"iteration\"])+1)\n",
    "    return -fid"
   ]
  },
  {
   "cell_type": "code",
   "execution_count": 16,
   "metadata": {},
   "outputs": [
    {
     "name": "stdout",
     "output_type": "stream",
     "text": [
      "State 0\n",
      "W state\n",
      "State 1\n",
      "GHZ\n",
      "State 2\n",
      "GHZ\n",
      "State 3\n",
      "GHZ\n",
      "State 4\n",
      "Separable\n",
      "State 5\n",
      "Separable\n",
      "State 6\n",
      "W state\n",
      "State 7\n",
      "GHZ\n",
      "State 8\n",
      "GHZ\n",
      "State 9\n",
      "Bipartite\n",
      "State 10\n",
      "Bipartite\n",
      "State 11\n",
      "Separable\n",
      "State 12\n",
      "GHZ\n",
      "State 13\n",
      "Separable\n",
      "State 14\n",
      "Separable\n",
      "State 15\n",
      "Bipartite\n",
      "State 16\n",
      "Separable\n",
      "State 17\n",
      "Separable\n",
      "State 18\n",
      "Separable\n",
      "State 19\n",
      "W state\n",
      "State 20\n",
      "W state\n",
      "State 21\n",
      "W state\n",
      "State 22\n",
      "Bipartite\n",
      "State 23\n",
      "GHZ\n",
      "State 24\n",
      "GHZ\n",
      "State 25\n",
      "W state\n",
      "State 26\n",
      "W state\n",
      "State 27\n",
      "Bipartite\n",
      "State 28\n",
      "Separable\n",
      "State 29\n",
      "Separable\n",
      "State 30\n",
      "Bipartite\n",
      "State 31\n",
      "W state\n",
      "State 32\n",
      "Bipartite\n",
      "State 33\n",
      "GHZ\n",
      "State 34\n",
      "Bipartite\n",
      "State 35\n",
      "Bipartite\n",
      "State 36\n",
      "GHZ\n",
      "State 37\n",
      "Bipartite\n",
      "State 38\n",
      "Separable\n",
      "State 39\n",
      "W state\n",
      "State 40\n",
      "W state\n",
      "State 41\n",
      "Separable\n",
      "State 42\n",
      "GHZ\n",
      "State 43\n",
      "W state\n",
      "State 44\n",
      "GHZ\n",
      "State 45\n",
      "W state\n",
      "State 46\n",
      "Separable\n",
      "State 47\n",
      "W state\n",
      "State 48\n",
      "GHZ\n",
      "State 49\n",
      "GHZ\n",
      "State 50\n",
      "Bipartite\n",
      "State 51\n",
      "Separable\n",
      "State 52\n",
      "W state\n",
      "State 53\n",
      "W state\n",
      "State 54\n",
      "Bipartite\n",
      "State 55\n",
      "GHZ\n"
     ]
    }
   ],
   "source": [
    "ansatz_sep = QuantumCircuit(3)\n",
    "params = ParameterVector('θ',9)\n",
    "ansatz_sep.ry(params[0],0)\n",
    "ansatz_sep.rx(params[1],0)\n",
    "ansatz_sep.rz(params[2],0)\n",
    "ansatz_sep.rx(params[3],1)\n",
    "ansatz_sep.ry(params[4],1)\n",
    "ansatz_sep.rz(params[5],1)\n",
    "ansatz_sep.rx(params[6],2)\n",
    "ansatz_sep.ry(params[7],2)\n",
    "ansatz_sep.rz(params[8],2)\n",
    "real_label= []\n",
    "q = 0\n",
    "geom_entr = []\n",
    "position_entangled = {'bipartite': [], 'ghz': [], 'w_state': []}\n",
    "alpha_beta_gamma_bounds = (0, np.pi / 2)\n",
    "delta_bounds = (0, np.pi / 4)\n",
    "phi_bounds = (0, 2 * np.pi)\n",
    "cost_evolution_dict = {}\n",
    "for i in range(0,int(len(training)/12),3):\n",
    "    print(f'State {q}')\n",
    "    cost_evolution_dict[f\"state_{q}\"] = {\"cost\":[],\n",
    "                                     \"iteration\":[],\n",
    "                                     \"angles\":[]}\n",
    "    x0 = np.random.rand(9) * 2 * np.pi\n",
    "    rand_num = np.random.rand()\n",
    "    # We select randomely if the generated state is entangled or not\n",
    "    if rand_num <= 1/4:\n",
    "        position_entangled['bipartite'].append(q)\n",
    "        real_label.append(1)\n",
    "        print('Bipartite')\n",
    "        qc = QuantumCircuit(3)\n",
    "        qc.unitary(Operator(training[i]), [0], label=\"U1\")\n",
    "        qc.h(1)\n",
    "        qc.cx(1,2)\n",
    "        U_ = np.kron(training[i+1],training[i+2])\n",
    "        qc.unitary(Operator(U_), [1,2], label=\"U2⊗U3\")\n",
    "    elif rand_num>1/4 and rand_num<=2/4:\n",
    "        position_entangled['ghz'].append(q)\n",
    "        real_label.append(1)\n",
    "        print('GHZ')\n",
    "        alpha = np.random.uniform(*alpha_beta_gamma_bounds)\n",
    "        beta = np.random.uniform(*alpha_beta_gamma_bounds)\n",
    "        gamma = np.random.uniform(*alpha_beta_gamma_bounds)\n",
    "        delta = np.random.uniform(*delta_bounds)\n",
    "        phi = np.random.uniform(*phi_bounds)\n",
    "        cos_d = np.cos(delta)\n",
    "        sin_d = np.sin(delta)\n",
    "        cos_phi = np.cos(phi)\n",
    "        amp_000 = cos_d\n",
    "        phi_A = np.array([np.cos(alpha), np.sin(alpha)])\n",
    "        phi_B = np.array([np.cos(beta), np.sin(beta)])\n",
    "        phi_C = np.array([np.cos(gamma), np.sin(gamma)])\n",
    "        phi_ABC = np.kron(np.kron(phi_A, phi_B), phi_C)\n",
    "        amp_phi = sin_d * np.exp(1j * phi)\n",
    "        state = np.zeros(8, dtype=complex)\n",
    "        state[0] = amp_000\n",
    "        state += amp_phi * phi_ABC\n",
    "        norm = np.linalg.norm(state)\n",
    "        state /= norm\n",
    "        psi_ghz = Statevector(state)\n",
    "        qc = QuantumCircuit(3)\n",
    "        qc.initialize(psi_ghz, [0, 1, 2])\n",
    "    elif rand_num>2/4 and rand_num<=3/4:\n",
    "        position_entangled['w_state'].append(q)\n",
    "        real_label.append(1)\n",
    "        print('W state')\n",
    "        a, b, c, d = np.random.rand(4)\n",
    "        norm = np.sqrt(a**2 + b**2 + c**2 + d**2)\n",
    "        # We normalize the probabilities so the quantum state is normalized\n",
    "        a, b, c, d = a/norm, b/norm, c/norm, d/norm\n",
    "        # Define state vector in computational basis order: |000>, |001>, ..., |111>\n",
    "        state_vector = [d, a, b, 0, c, 0, 0, 0]\n",
    "        # Initialize circuit\n",
    "        qc = QuantumCircuit(3)\n",
    "        qc.initialize(state_vector, [0, 1, 2])\n",
    "    elif rand_num>3/4:\n",
    "        print(\"Separable\")\n",
    "        real_label.append(0)\n",
    "        qc =QuantumCircuit(3)\n",
    "        qc.unitary(Operator(np.array(training[i])), [0], label=\"U0\")\n",
    "        qc.unitary(Operator(np.array(training[i+1])), [1], label=\"U1\")\n",
    "        qc.unitary(Operator(np.array(training[i+2])), [2], label=\"U2\")\n",
    "        qc.barrier()\n",
    "    res = minimize(cost_fun,x0,args = (qc,ansatz_sep,backend,cost_evolution_dict,q),method='cobyla',tol=0.0001)\n",
    "    q+=1\n",
    "    geom_entr.append(-res['fun'])"
   ]
  },
  {
   "cell_type": "code",
   "execution_count": 17,
   "metadata": {},
   "outputs": [],
   "source": [
    "for key, value in cost_evolution_dict.items():\n",
    "    cost_evolution_dict[key][\"angles\"] = [list(param) for param in value[\"angles\"]]\n",
    "    for q in range(len(value[\"angles\"])):\n",
    "        for i in range(len(value[\"angles\"][q])):\n",
    "            cost_evolution_dict[key][\"angles\"][q][i] = float(cost_evolution_dict[key][\"angles\"][q][i])\n",
    "dict_result_1 = {\"cost_evolution_dict\": cost_evolution_dict,\n",
    "                 \"real_label\": real_label,\n",
    "                 \"position_entangled\": position_entangled,\n",
    "                 \"geom_entr\": geom_entr}\n",
    "with open('result_3qubits.json', 'w') as f:\n",
    "    json.dump(dict_result_1, f, indent=4)\n"
   ]
  },
  {
   "cell_type": "code",
   "execution_count": 20,
   "metadata": {},
   "outputs": [
    {
     "name": "stdout",
     "output_type": "stream",
     "text": [
      "[np.float64(0.02077103659869739), np.float64(0.15079605752963432), np.float64(0.07011194407012933), np.float64(0.2931073850532475), np.float64(4.0441272552982355e-09), np.float64(5.082093856856318e-09), np.float64(0.15312020247342661), np.float64(0.0013491139925239093), np.float64(0.01010920482662303), np.float64(0.7500000010415342), np.float64(0.7500000017101343), np.float64(1.2976739682812877e-09), np.float64(0.15385555172204957), np.float64(7.61066276666611e-09), np.float64(3.828930505989092e-09), np.float64(0.7500000011898135), np.float64(9.014504254167832e-09), np.float64(4.422002319870444e-09), np.float64(3.326177999696256e-09), np.float64(0.3167977068170007), np.float64(0.5031646492636833), np.float64(0.03945122748185759), np.float64(0.7500000003562446), np.float64(0.029424289943259962), np.float64(0.268796112614479), np.float64(0.17899856952573656), np.float64(0.17965149552450188), np.float64(0.750000002982), np.float64(3.835111339611785e-09), np.float64(3.1898852448364323e-09), np.float64(0.7500000033479632), np.float64(0.3751923277566479), np.float64(0.7500000005969114), np.float64(0.4123828430062978), np.float64(0.7500000025181797), np.float64(0.7500000021086), np.float64(0.09644936798901049), np.float64(0.7500000014482114), np.float64(2.349244354604707e-09), np.float64(0.12037800467770843), np.float64(0.08065752564511153), np.float64(3.572587115030501e-09), np.float64(0.17078724308028426), np.float64(0.5237017400566513), np.float64(0.06236606052103699), np.float64(0.45257595950633955), np.float64(4.571008460629855e-09), np.float64(0.735863015051538), np.float64(0.014892682045720695), np.float64(0.036057447033974954), np.float64(0.7500000005080474), np.float64(1.4255210345481828e-09), np.float64(0.2697503372129487), np.float64(0.0966960260198968), np.float64(0.7500000018481581), np.float64(0.0004339783654110363)]\n",
      "The method`s accuaracy is 100.0 %\n"
     ]
    }
   ],
   "source": [
    "E = [(1 - p**2) for p in geom_entr]\n",
    "print(E)\n",
    "for i in range(len(E)):\n",
    "    # I set a bound at 0.1 for classification of separable and entangled\n",
    "    if E[i] < 0.0001:\n",
    "        E[i]=0\n",
    "    elif E[i]>=0.0001:\n",
    "        E[i]=1\n",
    "q= 0\n",
    "for z in range(len(real_label)):\n",
    "    if E[z]==real_label[z]:\n",
    "        q+=1\n",
    "print(f'The method`s accuaracy is {(q/len(real_label))*100} %')"
   ]
  },
  {
   "cell_type": "code",
   "execution_count": null,
   "metadata": {},
   "outputs": [],
   "source": [
    "position_entangled"
   ]
  },
  {
   "cell_type": "markdown",
   "metadata": {},
   "source": [
    "With the following image we can see for any state the maximization process to see when the optimum is obtained"
   ]
  },
  {
   "cell_type": "code",
   "execution_count": 23,
   "metadata": {},
   "outputs": [
    {
     "data": {
      "text/plain": [
       "(0.0, 1.0)"
      ]
     },
     "execution_count": 23,
     "metadata": {},
     "output_type": "execute_result"
    },
    {
     "data": {
      "image/png": "[encoded data removed]",
      "text/plain": [
       "<Figure size 1000x600 with 1 Axes>"
      ]
     },
     "metadata": {},
     "output_type": "display_data"
    }
   ],
   "source": [
    "plt.figure(figsize=(10, 6))\n",
    "cost = cost_evolution_dict[\"state_19\"]\n",
    "plt.plot(cost[\"iteration\"], np.abs(cost[\"cost\"]), label=\"State 0\")\n",
    "plt.grid()\n",
    "plt.ylim(0, 1)"
   ]
  },
  {
   "cell_type": "markdown",
   "metadata": {},
   "source": [
    "## Study of entanglement meassure for each entagled state\n",
    "In this part I study the numerical value of the entanglement meassure for each type of the entangled states to see if any classification through this meassure is possible"
   ]
  },
  {
   "cell_type": "code",
   "execution_count": null,
   "metadata": {},
   "outputs": [],
   "source": [
    "from collections import defaultdict\n",
    "cost_evolution_dict_bipartite = defaultdict(lambda: {\n",
    "    \"cost\": [], \"angles\": [], \"iteration\": [], \"population\": []\n",
    "})"
   ]
  },
  {
   "cell_type": "code",
   "execution_count": null,
   "metadata": {},
   "outputs": [],
   "source": [
    "def cost_fun(params,ansatz1,ansatz2,backend):\n",
    "    ansatz2 = ansatz2.assign_parameters(params)\n",
    "    isa_ansatz = transpile(ansatz1,backend=backend)\n",
    "    isa_ansatz2 = transpile(ansatz2,backend=backend)\n",
    "    sv1 = Statevector(isa_ansatz)\n",
    "    sv2 = Statevector(isa_ansatz2)\n",
    "    fid = state_fidelity(sv1,sv2)\n",
    "    return -fid"
   ]
  },
  {
   "cell_type": "code",
   "execution_count": null,
   "metadata": {},
   "outputs": [],
   "source": [
    "def wrapped_cost_fun(x, qc, ansatz_sep, backend, q):\n",
    "    cost = cost_fun(x, qc, ansatz_sep, backend)\n",
    "\n",
    "    # Store info on each function evaluation\n",
    "    state = f\"state_{q}\"\n",
    "    cost_evolution_dict_bipartite[state][\"cost\"].append(cost)\n",
    "    cost_evolution_dict_bipartite[state][\"angles\"].append(x)\n",
    "    cost_evolution_dict_bipartite[state][\"iteration\"].append(\n",
    "        len(cost_evolution_dict_bipartite[state][\"iteration\"]) + 1\n",
    "    )\n",
    "    # If you had population info, you'd log it here\n",
    "    return cost"
   ]
  },
  {
   "cell_type": "code",
   "execution_count": null,
   "metadata": {},
   "outputs": [
    {
     "name": "stdout",
     "output_type": "stream",
     "text": [
      "State 5\n",
      "State 6\n",
      "State 7\n",
      "State 8\n",
      "State 9\n"
     ]
    }
   ],
   "source": [
    "ansatz_sep = QuantumCircuit(3)\n",
    "params = ParameterVector('θ',9)\n",
    "ansatz_sep.ry(params[0],0)\n",
    "ansatz_sep.rx(params[1],0)\n",
    "ansatz_sep.rz(params[2],0)\n",
    "ansatz_sep.rx(params[3],1)\n",
    "ansatz_sep.ry(params[4],1)\n",
    "ansatz_sep.rz(params[5],1)\n",
    "ansatz_sep.rx(params[6],2)\n",
    "ansatz_sep.ry(params[7],2)\n",
    "ansatz_sep.rz(params[8],2)\n",
    "q = 0\n",
    "geom_entr_bipartite = []\n",
    "cost_evolution_dict_bipartite = {}\n",
    "bounds =[(-np.pi, np.pi)]*ansatz_sep.num_parameters\n",
    "for i in range(0,int(len(training)/50),3):\n",
    "    print(f'State {q}')\n",
    "    x0 = np.random.rand(9) * 2 * np.pi\n",
    "    qc = QuantumCircuit(3)\n",
    "    qc.unitary(Operator(training[i]), [0], label=\"U1\")\n",
    "    qc.h(1)\n",
    "    qc.cx(1,2)\n",
    "    U_ = np.kron(training[i+1],training[i+2])\n",
    "    qc.unitary(Operator(U_), [1,2], label=\"U2⊗U3\")\n",
    "    res = differential_evolution(lambda x: wrapped_cost_fun(x, qc, ansatz_sep, backend, q),\n",
    "    bounds,\n",
    "    strategy='best1exp',\n",
    "    maxiter=100,\n",
    "    popsize=1,\n",
    "    tol=0.001\n",
    ")\n",
    "    q+=1\n",
    "    geom_entr_bipartite.append(-res['fun'])"
   ]
  },
  {
   "cell_type": "code",
   "execution_count": null,
   "metadata": {},
   "outputs": [],
   "source": [
    "params = ParameterVector('θ',9)\n",
    "ansatz_sep = QuantumCircuit(3)\n",
    "ansatz_sep.ry(params[0],0)\n",
    "ansatz_sep.rx(params[1],0)\n",
    "ansatz_sep.rz(params[2],0)\n",
    "ansatz_sep.rx(params[3],1)\n",
    "ansatz_sep.ry(params[4],1)\n",
    "ansatz_sep.rz(params[5],1)\n",
    "ansatz_sep.rx(params[6],2)\n",
    "ansatz_sep.ry(params[7],2)\n",
    "ansatz_sep.rz(params[8],2)\n",
    "alpha_beta_gamma_bounds = (0, np.pi / 2)\n",
    "delta_bounds = (0, np.pi / 4)\n",
    "phi_bounds = (0, 2 * np.pi)\n",
    "q = 0\n",
    "geom_entr_GHZ = []\n",
    "cost_evolution_dict_GHZ = {}\n",
    "for i in range(0,int(len(training)/50),3):\n",
    "    cost_evolution_dict_GHZ[f\"state_{q}\"] = {\"cost\":[],\n",
    "                                     \"iteration\":[],\n",
    "                                     \"angles\":[]}\n",
    "    x0 = np.random.rand(9) * 2 * np.pi\n",
    "    alpha = np.random.uniform(*alpha_beta_gamma_bounds)\n",
    "    beta = np.random.uniform(*alpha_beta_gamma_bounds)\n",
    "    gamma = np.random.uniform(*alpha_beta_gamma_bounds)\n",
    "    delta = np.random.uniform(*delta_bounds)\n",
    "    phi = np.random.uniform(*phi_bounds)\n",
    "    cos_d = np.cos(delta)\n",
    "    sin_d = np.sin(delta)\n",
    "    cos_phi = np.cos(phi)\n",
    "    amp_000 = cos_d\n",
    "    phi_A = np.array([np.cos(alpha), np.sin(alpha)])\n",
    "    phi_B = np.array([np.cos(beta), np.sin(beta)])\n",
    "    phi_C = np.array([np.cos(gamma), np.sin(gamma)])\n",
    "    phi_ABC = np.kron(np.kron(phi_A, phi_B), phi_C)\n",
    "    amp_phi = sin_d * np.exp(1j * phi)\n",
    "    state = np.zeros(8, dtype=complex)\n",
    "    state[0] = amp_000\n",
    "    state += amp_phi * phi_ABC\n",
    "    norm = np.linalg.norm(state)\n",
    "    state /= norm\n",
    "    psi = Statevector(state)\n",
    "    qc = QuantumCircuit(3)\n",
    "    qc.initialize(psi, [0, 1, 2])\n",
    "    res = diff(cost_fun,x0,args = (qc,ansatz_sep,backend,cost_evolution_dict_GHZ,q),method='cobyla',tol=0.01)\n",
    "    q+=1\n",
    "    geom_entr_GHZ.append(-res['fun'])"
   ]
  },
  {
   "cell_type": "code",
   "execution_count": null,
   "metadata": {},
   "outputs": [],
   "source": [
    "params = ParameterVector('θ',9)\n",
    "ansatz_sep = QuantumCircuit(3)\n",
    "ansatz_sep.ry(params[0],0)\n",
    "ansatz_sep.rx(params[1],0)\n",
    "ansatz_sep.rz(params[2],0)\n",
    "ansatz_sep.rx(params[3],1)\n",
    "ansatz_sep.ry(params[4],1)\n",
    "ansatz_sep.rz(params[5],1)\n",
    "ansatz_sep.rx(params[6],2)\n",
    "ansatz_sep.ry(params[7],2)\n",
    "ansatz_sep.rz(params[8],2)\n",
    "q = 0\n",
    "geom_entr_W = []\n",
    "cost_evolution_dict_W = {}\n",
    "for i in range(0,int(len(training)/50),3):\n",
    "    cost_evolution_dict_W[f\"state_{q}\"] = {\"cost\":[],\n",
    "                                     \"iteration\":[],\n",
    "                                     \"angles\":[]}\n",
    "    x0 = np.random.rand(9) * 2 * np.pi\n",
    "    a, b, c, d = np.random.rand(4)\n",
    "    norm = np.sqrt(a**2 + b**2 + c**2 + d**2)\n",
    "    # We normalize the probabilities so the quantum state is normalized\n",
    "    a, b, c, d = a/norm, b/norm, c/norm, d/norm\n",
    "    # Define state vector in computational basis order: |000>, |001>, ..., |111>\n",
    "    state_vector = [d, a, b, 0, c, 0, 0, 0]\n",
    "    # Initialize circuit\n",
    "    qc = QuantumCircuit(3)\n",
    "    qc.initialize(state_vector, [0, 1, 2])\n",
    "    res = minimize(cost_fun,x0,args = (qc,ansatz_sep,backend,cost_evolution_dict_W,q),method='cobyla',tol=0.01)\n",
    "    q+=1\n",
    "    geom_entr_W.append(-res['fun'])"
   ]
  },
  {
   "cell_type": "code",
   "execution_count": null,
   "metadata": {},
   "outputs": [],
   "source": [
    "E_GHZ = [(1 - p**2) for p in geom_entr_GHZ]\n",
    "E_W = [(1 - p**2) for p in geom_entr_W]\n",
    "E_bi = [(1 - p**2) for p in geom_entr_bipartite]\n",
    "data = pd.DataFrame({\n",
    "    'Geometric Entanglement': E_GHZ + E_W + E_bi,\n",
    "    'State Type': ['GHZ']*len(E_GHZ) + ['W']*len(E_W) + ['Bipartite']*len(E_bi)\n",
    "})\n",
    "data.to_csv('ent_measure_3qub.csv')"
   ]
  },
  {
   "cell_type": "code",
   "execution_count": 24,
   "metadata": {},
   "outputs": [],
   "source": [
    "df = pd.read_csv(\"./ent_measure_3qub.csv\")\n",
    "E_GHZ = df[df['State Type'] == 'GHZ']['Geometric Entanglement'].tolist()\n",
    "E_W = df[df['State Type'] == 'W']['Geometric Entanglement'].tolist()\n",
    "E_bi = df[df['State Type'] == 'Bipartite']['Geometric Entanglement'].tolist()"
   ]
  },
  {
   "cell_type": "code",
   "execution_count": 26,
   "metadata": {},
   "outputs": [
    {
     "name": "stderr",
     "output_type": "stream",
     "text": [
      "C:\\Users\\aquim\\AppData\\Local\\Temp\\ipykernel_11508\\1154567305.py:8: FutureWarning: \n",
      "\n",
      "Passing `palette` without assigning `hue` is deprecated and will be removed in v0.14.0. Assign the `x` variable to `hue` and set `legend=False` for the same effect.\n",
      "\n",
      "  sns.boxplot(data=df, x='State Type', y='Geometric Entanglement',palette=palette,width=0.5)\n"
     ]
    },
    {
     "data": {
      "image/png": "[encoded data removed]",
      "text/plain": [
       "<Figure size 640x480 with 1 Axes>"
      ]
     },
     "metadata": {},
     "output_type": "display_data"
    }
   ],
   "source": [
    "\n",
    "sns.set(style=\"whitegrid\")\n",
    "palette = {\n",
    "    'GHZ': sns.color_palette(\"Set1\")[0],\n",
    "    'W': sns.color_palette(\"Set1\")[1],\n",
    "    'Bipartite': sns.color_palette(\"Set1\")[2],\n",
    "}\n",
    "# Create a boxplot\n",
    "sns.boxplot(data=df, x='State Type', y='Geometric Entanglement',palette=palette,width=0.5)\n",
    "#sns.stripplot(data=data, x='State Type', y='Geometric Entanglement', color='blue', size=6, jitter=True, alpha=0.5)\n",
    "\n",
    "plt.title('Entanglement measurement value for different 3 qubit entangled states')\n",
    "plt.ylabel('Geometric Entanglement')\n",
    "plt.xlabel('State Type')\n",
    "plt.show()"
   ]
  },
  {
   "cell_type": "markdown",
   "metadata": {},
   "source": [
    "# TO DOS:\n",
    "1. Study the non-maximally entangled and mixed separable states.\n",
    "2. Consider SVM.\n",
    "3. Problem using GHZ parameterized state. GHZ using STATEVECTOR✅\n",
    "4. Cost function plot!!✅\n",
    "5. Separability and Entanglement theory.\n",
    "6. ¿Try to differenciate between entangled states? Maybe check the entanglement meassure. ❔​\n",
    "7. Maybe try executing circuits and not using the statevector simulator.\n",
    "8. Improve optimizer and lower tolerance.\n",
    "9. signal vs background\n",
    "10. roc curve\n",
    "11. confussion matrix"
   ]
  }
 ],
 "metadata": {
  "kernelspec": {
   "display_name": "Python 3",
   "language": "python",
   "name": "python3"
  },
  "language_info": {
   "codemirror_mode": {
    "name": "ipython",
    "version": 3
   },
   "file_extension": ".py",
   "mimetype": "text/x-python",
   "name": "python",
   "nbconvert_exporter": "python",
   "pygments_lexer": "ipython3",
   "version": "3.11.11"
  }
 },
 "nbformat": 4,
 "nbformat_minor": 2
}
