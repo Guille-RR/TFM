{
 "cells": [
  {
   "cell_type": "code",
   "execution_count": 2,
   "metadata": {},
   "outputs": [],
   "source": [
    "import json\n",
    "import numpy as np\n",
    "from qiskit.circuit import QuantumCircuit,QuantumRegister,ClassicalRegister\n",
    "from qiskit.circuit import ParameterVector\n",
    "from qiskit_aer import Aer\n",
    "from qiskit import transpile\n",
    "from qiskit_ibm_runtime import EstimatorV2 as Estimator\n",
    "from qiskit.quantum_info import SparsePauliOp,Operator, state_fidelity, Statevector, partial_trace, entropy\n",
    "import random\n",
    "from scipy.optimize import minimize"
   ]
  },
  {
   "cell_type": "markdown",
   "metadata": {},
   "source": [
    "# 2 qubit entanglement detection\n",
    "In this notebook I will se how we can detect 2 qubit entanglement using VQAs or similar procedures."
   ]
  },
  {
   "cell_type": "markdown",
   "metadata": {},
   "source": [
    "First we open the 4000 random unitaries form the json"
   ]
  },
  {
   "cell_type": "code",
   "execution_count": 3,
   "metadata": {},
   "outputs": [
    {
     "name": "stdout",
     "output_type": "stream",
     "text": [
      "4000\n"
     ]
    }
   ],
   "source": [
    "with open(r\"C:\\Users\\aquim\\OneDrive\\Desktop\\Master\\TFM\\random_unitaries_2q.json\", \"r\") as f:\n",
    "    loaded_data = json.load(f)\n",
    "\n",
    "# Convert back to NumPy arrays\n",
    "loaded_matrices = [\n",
    "    np.array(data[\"real\"]) + 1j * np.array(data[\"imag\"])\n",
    "    for data in loaded_data\n",
    "]\n",
    "print(len(loaded_matrices))"
   ]
  },
  {
   "cell_type": "markdown",
   "metadata": {},
   "source": [
    "We have now stored the 4000 complex matrices in the loaded_matrices vector.\n",
    "With this 4000 unitaries we will create a set of 2000 training states and 2000 test states.\n"
   ]
  },
  {
   "cell_type": "code",
   "execution_count": 7,
   "metadata": {},
   "outputs": [],
   "source": [
    "training = loaded_matrices[0:2000]\n",
    "test = loaded_matrices[2000:4000]"
   ]
  },
  {
   "cell_type": "code",
   "execution_count": 4,
   "metadata": {},
   "outputs": [
    {
     "data": {
      "text/plain": [
       "2000"
      ]
     },
     "execution_count": 4,
     "metadata": {},
     "output_type": "execute_result"
    }
   ],
   "source": [
    "len(training)"
   ]
  },
  {
   "cell_type": "markdown",
   "metadata": {},
   "source": [
    "## Geometric measure of entanglement "
   ]
  },
  {
   "cell_type": "markdown",
   "metadata": {},
   "source": [
    "The first method we will review is the entanglement detection through the geometric measure (GME). This is a monotone which provides a quantification of how close this state is to the closest possible separable state. This closeness is calculated using the fideleity:\n",
    "$$F(|\\psi\\rangle , |\\phi\\rangle) = |\\langle \\psi | \\phi \\rangle|^2 $$\n",
    "We de define GME as:\n",
    "$$E(|\\psi \\rangle) = 1 - \\Lambda_{\\psi}^2$$\n",
    "Where the $\\Lambda_{\\psi}$ is defined as:\n",
    "$$\\Lambda_{\\psi}^2 = max_{|\\phi\\rangle \\in SEP} F(|\\psi\\rangle , |\\phi\\rangle) $$\n",
    "If E is zero we have that the quantum state is separable, otherwise it is entangled.\n",
    "\n",
    "By maximazing the fidelity, we try to obtain the closest separable state to the one we want to classify. It is worth noting that this procedure is possible because the set of separable states is a convex set."
   ]
  },
  {
   "cell_type": "code",
   "execution_count": 14,
   "metadata": {},
   "outputs": [],
   "source": [
    "backend = Aer.get_backend('statevector_simulator')"
   ]
  },
  {
   "cell_type": "markdown",
   "metadata": {},
   "source": [
    "For the cost function, we calculate the fidelity the two circuits by using the fidelity function provided by qiskit."
   ]
  },
  {
   "cell_type": "code",
   "execution_count": 6,
   "metadata": {},
   "outputs": [],
   "source": [
    "def cost_fun(params,ansatz1,ansatz2,backend):\n",
    "    ansatz2 = ansatz2.assign_parameters(params)\n",
    "    isa_ansatz = transpile(ansatz1,backend=backend)\n",
    "    isa_ansatz2 = transpile(ansatz2,backend=backend)\n",
    "    sv1 = Statevector(isa_ansatz)\n",
    "    sv2 = Statevector(isa_ansatz2)\n",
    "    fid = state_fidelity(sv1,sv2)\n",
    "    return -fid"
   ]
  },
  {
   "cell_type": "markdown",
   "metadata": {},
   "source": [
    "For the benchmarking of this method, I define 3 quantum variational circuits:\n",
    "1. ansatz_sep: variational quantum circuit with 6 parameters. I selected this ansatz because the 3 possible rotations (rx,ry,rz) consider every single state in the Bloch Sphere for each qubit. There is no entangling gates, which makes this ansatz separable.\n",
    "2. qc: the first named qc quantum circuit creates the entangled state using the unitaries from the random unitary training dataset.\n",
    "3. qc: the second qc quantum circuit creates a separable state using the unitaries from the traininf dataset."
   ]
  },
  {
   "cell_type": "code",
   "execution_count": 7,
   "metadata": {},
   "outputs": [
    {
     "data": {
      "text/plain": [
       "250.0"
      ]
     },
     "execution_count": 7,
     "metadata": {},
     "output_type": "execute_result"
    }
   ],
   "source": [
    "len(training)/8"
   ]
  },
  {
   "cell_type": "code",
   "execution_count": null,
   "metadata": {},
   "outputs": [
    {
     "name": "stdout",
     "output_type": "stream",
     "text": [
      "State 0\n",
      "State 1\n",
      "State 2\n",
      "State 3\n",
      "State 4\n",
      "State 5\n",
      "State 6\n",
      "State 7\n",
      "State 8\n",
      "State 9\n",
      "State 10\n",
      "State 11\n",
      "State 12\n",
      "State 13\n",
      "State 14\n",
      "State 15\n",
      "State 16\n",
      "State 17\n",
      "State 18\n",
      "State 19\n",
      "State 20\n",
      "State 21\n",
      "State 22\n",
      "State 23\n",
      "State 24\n",
      "State 25\n",
      "State 26\n",
      "State 27\n",
      "State 28\n",
      "State 29\n",
      "State 30\n",
      "State 31\n",
      "State 32\n",
      "State 33\n",
      "State 34\n",
      "State 35\n",
      "State 36\n",
      "State 37\n",
      "State 38\n",
      "State 39\n",
      "State 40\n",
      "State 41\n",
      "State 42\n",
      "State 43\n",
      "State 44\n",
      "State 45\n",
      "State 46\n",
      "State 47\n",
      "State 48\n",
      "State 49\n",
      "State 50\n",
      "State 51\n",
      "State 52\n",
      "State 53\n",
      "State 54\n",
      "State 55\n",
      "State 56\n",
      "State 57\n",
      "State 58\n",
      "State 59\n",
      "State 60\n",
      "State 61\n",
      "State 62\n",
      "State 63\n",
      "State 64\n",
      "State 65\n",
      "State 66\n",
      "State 67\n",
      "State 68\n",
      "State 69\n",
      "State 70\n",
      "State 71\n",
      "State 72\n",
      "State 73\n",
      "State 74\n",
      "State 75\n",
      "State 76\n",
      "State 77\n",
      "State 78\n",
      "State 79\n",
      "State 80\n",
      "State 81\n",
      "State 82\n",
      "State 83\n",
      "State 84\n",
      "State 85\n",
      "State 86\n",
      "State 87\n",
      "State 88\n",
      "State 89\n",
      "State 90\n",
      "State 91\n",
      "State 92\n",
      "State 93\n",
      "State 94\n",
      "State 95\n",
      "State 96\n",
      "State 97\n",
      "State 98\n",
      "State 99\n",
      "State 100\n",
      "State 101\n",
      "State 102\n",
      "State 103\n",
      "State 104\n",
      "State 105\n",
      "State 106\n",
      "State 107\n",
      "State 108\n",
      "State 109\n",
      "State 110\n",
      "State 111\n",
      "State 112\n",
      "State 113\n",
      "State 114\n",
      "State 115\n",
      "State 116\n",
      "State 117\n",
      "State 118\n",
      "State 119\n",
      "State 120\n",
      "State 121\n",
      "State 122\n",
      "State 123\n",
      "State 124\n"
     ]
    }
   ],
   "source": [
    "ansatz_sep = QuantumCircuit(2)\n",
    "params = ParameterVector('θ',6)\n",
    "ansatz_sep.ry(params[0],0)\n",
    "ansatz_sep.rx(params[1],0)\n",
    "ansatz_sep.ry(params[2],1)\n",
    "ansatz_sep.rx(params[3],1)\n",
    "ansatz_sep.rz(params[4],0)\n",
    "ansatz_sep.rz(params[5],1)\n",
    "real_label= []\n",
    "q = 0\n",
    "geom_entr = []\n",
    "for i in range(0,int(len(training)/8),2):\n",
    "    print(f'State {q}')\n",
    "    q+=1\n",
    "    x0 = np.random.rand(6) * 2 * np.pi\n",
    "    rand_num = np.random.rand()\n",
    "    # We select randomely if the generated state is entangled or not\n",
    "    if rand_num <= 1/3:   \n",
    "        # Entangled state generator\n",
    "        real_label.append(1)\n",
    "        x0 = np.random.rand(6) * 2 * np.pi\n",
    "        qc =QuantumCircuit(2)\n",
    "        qc.h(0)# We first create the  Bell state\n",
    "        qc.cx(0,1)\n",
    "        U_ = np.kron(training[i],training[i+1])# We do the tensor product and create the entangled state\n",
    "        qc.unitary(Operator(U_), [0,1], label=\"U1⊗U2\")\n",
    "        qc.barrier()\n",
    "    elif rand_num>1/3 and rand_num<=2/3:\n",
    "        # Separated state\n",
    "        real_label.append(0)\n",
    "        x0 = np.random.rand(6) * 2 * np.pi\n",
    "        qc =QuantumCircuit(2)\n",
    "        U_ = np.kron(training[0],training[1])\n",
    "        qc.unitary(Operator(U_), [0,1], label=\"U1⊗U2\")\n",
    "        qc.barrier()\n",
    "    elif rand_num>2/3:\n",
    "        # Non maximally entangled state\n",
    "        real_label.append(1)\n",
    "        r = np.random.rand(4) # We create a vector of 4 random amplitudes\n",
    "        r_norm = r/np.linalg.norm(r) # We normalize the vector\n",
    "        phi = np.random.rand(4) * 2 * np.pi # We create a random phase\n",
    "        target_state = np.array([\n",
    "            r_norm[0] * np.exp(1j * phi[0]),\n",
    "            r_norm[1] * np.exp(1j * phi[1]),\n",
    "            r_norm[2] * np.exp(1j * phi[2]),\n",
    "            r_norm[3] * np.exp(1j * phi[3])\n",
    "        ])\n",
    "        target_state = Statevector(target_state)\n",
    "        qc = QuantumCircuit(2)\n",
    "        qc.initialize(target_state.data, [0, 1]) # We initialize the state\n",
    "        qc.barrier()\n",
    "    res = minimize(cost_fun,x0,args = (qc,ansatz_sep,backend),method='cobyla',tol=0.1)\n",
    "    geom_entr.append(-res['fun'])\n",
    "    "
   ]
  },
  {
   "cell_type": "code",
   "execution_count": 34,
   "metadata": {},
   "outputs": [
    {
     "name": "stdout",
     "output_type": "stream",
     "text": [
      "The method`s accuaracy is 99.2%\n"
     ]
    }
   ],
   "source": [
    "E = [(1 - p**2) for p in geom_entr]\n",
    "for i in range(len(E)):\n",
    "    # I set a bound at 0.1 for classification of separable and entangled\n",
    "    if E[i] < 0.01:\n",
    "        E[i]=0\n",
    "    elif E[i]>=0.01:\n",
    "        E[i]=1\n",
    "q= 0\n",
    "for z in range(len(real_label)):\n",
    "    if E[z]==real_label[z]:\n",
    "        q+=1\n",
    "print(f'The method`s accuaracy is {(q/len(real_label))*100}%')"
   ]
  },
  {
   "cell_type": "markdown",
   "metadata": {},
   "source": [
    "Now, I'll try to implement the detection of non-maximally entangled 2-qubit states. These are defined by:\n",
    "$$|\\psi\\rangle = \\sum_{j=1}^{4}r_j e^{i\\phi_j}|u_j\\rangle$$\n",
    "Where $r_j \\geq 0$, $\\phi_j \\in [0,2\\pi]$ and $\\sum_{j=1}^{4}r_j = 1$. For qiskit, the basis we will take is the computational basis for the 2 qubit states such that:\n",
    "* $|1\\rangle == |00\\rangle$\n",
    "* $|2\\rangle == |01\\rangle$\n",
    "* $|3\\rangle == |10\\rangle$\n",
    "* $|4\\rangle == |11\\rangle$"
   ]
  },
  {
   "cell_type": "code",
   "execution_count": null,
   "metadata": {},
   "outputs": [
    {
     "name": "stdout",
     "output_type": "stream",
     "text": [
      "0.5406816974042805\n"
     ]
    }
   ],
   "source": [
    "r = np.random.rand(4) # We create a vector of 4 random amplitudes\n",
    "r_norm = r/np.linalg.norm(r) # We normalize the vector\n",
    "phi = np.random.rand(4) * 2 * np.pi # We create a random phase\n",
    "target_state = np.array([\n",
    "    r_norm[0] * np.exp(1j * phi[0]),\n",
    "    r_norm[1] * np.exp(1j * phi[1]),\n",
    "    r_norm[2] * np.exp(1j * phi[2]),\n",
    "    r_norm[3] * np.exp(1j * phi[3])\n",
    "])\n",
    "target_state = Statevector(target_state)\n",
    "qc = QuantumCircuit(2)\n",
    "qc.initialize(target_state.data, [0, 1]) "
   ]
  },
  {
   "cell_type": "markdown",
   "metadata": {},
   "source": [
    "Once non-maximally entangled states are used, the 1-D classification is not as clear as with only maximally entangled and serparable states. For the purpose of increasing the result a 1-D SVD, as it was proposed may be a good idea."
   ]
  },
  {
   "cell_type": "markdown",
   "metadata": {},
   "source": [
    "# 3 qubits\n",
    "First, I will if the entanglement geometric monotone can differenciate for 3 qubit pure separable and entangled states."
   ]
  },
  {
   "cell_type": "markdown",
   "metadata": {},
   "source": [
    "For 3 qubits, as in the [NNpaper](https://www.nature.com/articles/s41598-024-68213-0), we consider the 4 possible classes os pure states:, which will be generated using:\n",
    "\n",
    "3. W entangled state:  $|\\psi_W\\rangle = K_W \\left( a|001\\rangle + b|010\\rangle + c|100\\rangle + d|000\\rangle \\right)$\n",
    "\n",
    "\n",
    "\n",
    "\\begin{aligned}\n",
    "K_{\\text{GHZ}} &= \\frac{1}{1 + \\cos(\\delta) \\sin(\\delta) \\cos(\\alpha) \\cos(\\beta) \\cos(\\varphi)} \\\\\n",
    "K_W &= \\frac{1}{\\sqrt{a^2 + b^2 + c^2 + d^2}}\n",
    "\\end{aligned}\n",
    "\n",
    "Some of this parameters are bounded:$(a , b ,c,d)\\in (0,1)$."
   ]
  },
  {
   "cell_type": "markdown",
   "metadata": {},
   "source": [
    "1. Separable:  $|\\psi_{\\text{sep}}^{\\text{rand}}\\rangle_3 = U_1^{\\text{rand}} |0\\rangle \\otimes U_2^{\\text{rand}} |0\\rangle \\otimes U_3^{\\text{rand}} |0\\rangle$"
   ]
  },
  {
   "cell_type": "code",
   "execution_count": null,
   "metadata": {},
   "outputs": [
    {
     "data": {
      "image/png": "[encoded data removed]",
      "text/plain": [
       "<Figure size 203.885x284.278 with 1 Axes>"
      ]
     },
     "execution_count": 4,
     "metadata": {},
     "output_type": "execute_result"
    }
   ],
   "source": [
    "qc = QuantumCircuit(3)\n",
    "qc.unitary(Operator(training[0]), [0], label=\"U1\")\n",
    "qc.unitary(Operator(training[1]), [1], label=\"U2\")\n",
    "qc.unitary(Operator(training[2]), [2], label=\"U3\")\n",
    "qc.draw('mpl')"
   ]
  },
  {
   "cell_type": "markdown",
   "metadata": {},
   "source": [
    "2. Bipartite entangled:  $\\psi_{BE}=U_1^{rand}|0\\rangle \\otimes \\left(U_2^{rand} \\otimes U_3^{rand}\\right) |\\psi_+\\rangle$"
   ]
  },
  {
   "cell_type": "code",
   "execution_count": 8,
   "metadata": {},
   "outputs": [
    {
     "data": {
      "image/png": "[encoded data removed]",
      "text/plain": [
       "<Figure size 454.719x284.278 with 1 Axes>"
      ]
     },
     "execution_count": 8,
     "metadata": {},
     "output_type": "execute_result"
    }
   ],
   "source": [
    "qc = QuantumCircuit(3)\n",
    "qc.unitary(Operator(training[0]), [0], label=\"U1\")\n",
    "qc.h(1)\n",
    "qc.cx(1,2)\n",
    "U_ = np.kron(training[1],training[2])\n",
    "qc.unitary(Operator(U_), [1,2], label=\"U2⊗U3\")\n",
    "qc.draw('mpl')"
   ]
  },
  {
   "cell_type": "markdown",
   "metadata": {},
   "source": [
    "3. GHZ states:  $|\\Psi_{\\text{GHZ}}\\rangle = \\sqrt{K_{\\text{GHZ}}} \\left( \\cos(\\delta)|0\\rangle|0\\rangle|0\\rangle + \\sin(\\delta)e^{i\\phi} |\\varphi_A\\rangle |\\varphi_B\\rangle |\\varphi_C\\rangle \\right)$\n",
    "\n",
    "Where we find:\n",
    "\n",
    "\\begin{aligned}\n",
    "|\\varphi_A\\rangle &= \\cos(\\alpha)|0\\rangle + \\sin(\\alpha)|1\\rangle \\\\\n",
    "|\\varphi_B\\rangle &= \\cos(\\beta)|0\\rangle + \\sin(\\beta)|1\\rangle \\\\\n",
    "|\\varphi_C\\rangle &= \\cos(\\gamma)|0\\rangle + \\sin(\\gamma)|1\\rangle\\\\\n",
    "K_{\\text{GHZ}} &= \\frac{1}{1 + \\cos(\\delta) \\sin(\\delta) \\cos(\\alpha) \\cos(\\beta) \\cos(\\varphi)}\n",
    "\\end{aligned}\n",
    "Where this parameters are bounded as: $(\\alpha , \\beta ,\\gamma)\\in (0,\\pi/2]$, $\\delta\\in (0,\\pi/4]$ and $\\phi\\in [0,2\\pi)$"
   ]
  },
  {
   "cell_type": "markdown",
   "metadata": {},
   "source": [
    "For this, I considered 4 qubits as to encode the cos(delta) sin(delta) I'll need to us a conditional rotation. Also, to encode the $\\phi$ states the Ry gate we'll be needed as, acting on $|0\\rangle$ it produces the desired states because:\n",
    "$$RY(\\theta) =\n",
    "\\begin{pmatrix}\n",
    "\\cos\\left(\\frac{\\theta}{2}\\right) & -\\sin\\left(\\frac{\\theta}{2}\\right) \\\\\n",
    "\\sin\\left(\\frac{\\theta}{2}\\right) & \\cos\\left(\\frac{\\theta}{2}\\right)\n",
    "\\end{pmatrix}$$"
   ]
  },
  {
   "cell_type": "markdown",
   "metadata": {},
   "source": [
    "We need to say that it is important to only apply a second layer of RY if and only if the state is in |1>. For this purpose we need to use the conditional ry rotations."
   ]
  },
  {
   "cell_type": "code",
   "execution_count": 9,
   "metadata": {},
   "outputs": [
    {
     "data": {
      "image/png": "[encoded data removed]",
      "text/plain": [
       "<Figure size 1290.83x367.889 with 1 Axes>"
      ]
     },
     "execution_count": 9,
     "metadata": {},
     "output_type": "execute_result"
    }
   ],
   "source": [
    "qc = QuantumCircuit(4)\n",
    "delta,phi,alpha,beta,gamma = ParameterVector('param',5)\n",
    "qc.ry(2 * delta,0)\n",
    "qc.cx(0,1)\n",
    "qc.cx(1,2)\n",
    "qc.cx(2,3)\n",
    "qc.barrier()\n",
    "qc.cry(2 * alpha,0,1)\n",
    "qc.cry(2 * beta,0,2)\n",
    "qc.cry(2 * gamma,0,3)\n",
    "qc.barrier()\n",
    "qc.p(phi,1)\n",
    "qc.draw('mpl')\n"
   ]
  },
  {
   "cell_type": "markdown",
   "metadata": {},
   "source": [
    "3. W-states\n",
    "For these states, we will use the following parameterized state:\n",
    "$$|\\psi_W \\rangle  = K_W \\left( a|001\\rangle + b|010\\rangle + c|100\\rangle + d |000\\rangle \\right)$$\n",
    "Where the parameters (a,b,c,d) are random parameters generated from a plain distribution in the interval (0,1)."
   ]
  },
  {
   "cell_type": "code",
   "execution_count": 10,
   "metadata": {},
   "outputs": [
    {
     "data": {
      "image/png": "[encoded data removed]",
      "text/plain": [
       "<Figure size 454.719x284.278 with 1 Axes>"
      ]
     },
     "execution_count": 10,
     "metadata": {},
     "output_type": "execute_result"
    }
   ],
   "source": [
    "\n",
    "a, b, c, d = np.random.rand(4)\n",
    "\n",
    "# Normalize\n",
    "norm = np.sqrt(a**2 + b**2 + c**2 + d**2)\n",
    "# We normalize the probabilities so the quantum state is normalized\n",
    "a, b, c, d = a/norm, b/norm, c/norm, d/norm\n",
    "\n",
    "# Define state vector in computational basis order: |000>, |001>, ..., |111>\n",
    "state_vector = [d, a, b, 0, c, 0, 0, 0]\n",
    "\n",
    "# Initialize circuit\n",
    "qc = QuantumCircuit(3)\n",
    "qc.initialize(state_vector, [0, 1, 2])\n",
    "qc.draw('mpl')"
   ]
  },
  {
   "cell_type": "markdown",
   "metadata": {},
   "source": [
    "## Three qubit entanglement detection"
   ]
  },
  {
   "cell_type": "code",
   "execution_count": 28,
   "metadata": {},
   "outputs": [],
   "source": [
    "def cost_fun(params,ansatz1,ansatz2,backend):\n",
    "    ansatz2 = ansatz2.assign_parameters(params)\n",
    "    isa_ansatz = transpile(ansatz1,backend=backend)\n",
    "    isa_ansatz2 = transpile(ansatz2,backend=backend)\n",
    "    sv1 = Statevector(isa_ansatz)\n",
    "    sv2 = Statevector(isa_ansatz2)\n",
    "    fid = state_fidelity(sv1,sv2)\n",
    "    return -fid"
   ]
  },
  {
   "cell_type": "code",
   "execution_count": 34,
   "metadata": {},
   "outputs": [
    {
     "name": "stdout",
     "output_type": "stream",
     "text": [
      "State 0\n",
      "9\n",
      "State 1\n",
      "9\n",
      "State 2\n",
      "9\n",
      "State 3\n",
      "9\n",
      "State 4\n",
      "9\n",
      "State 5\n",
      "9\n",
      "State 6\n",
      "9\n",
      "State 7\n",
      "9\n",
      "State 8\n",
      "9\n",
      "State 9\n",
      "9\n",
      "State 10\n",
      "9\n",
      "State 11\n",
      "9\n",
      "State 12\n",
      "9\n",
      "State 13\n",
      "9\n",
      "State 14\n",
      "9\n",
      "State 15\n",
      "9\n",
      "State 16\n",
      "9\n",
      "State 17\n",
      "9\n",
      "State 18\n",
      "9\n",
      "State 19\n",
      "9\n",
      "State 20\n",
      "9\n",
      "State 21\n",
      "9\n",
      "State 22\n",
      "9\n",
      "State 23\n",
      "9\n",
      "State 24\n",
      "9\n",
      "State 25\n",
      "9\n",
      "State 26\n",
      "9\n",
      "State 27\n",
      "9\n",
      "State 28\n",
      "9\n",
      "State 29\n",
      "9\n",
      "State 30\n",
      "9\n",
      "State 31\n",
      "9\n",
      "State 32\n",
      "9\n",
      "State 33\n",
      "9\n",
      "State 34\n",
      "9\n",
      "State 35\n",
      "9\n",
      "State 36\n",
      "9\n",
      "State 37\n",
      "9\n",
      "State 38\n",
      "9\n",
      "State 39\n",
      "9\n",
      "State 40\n",
      "9\n",
      "State 41\n",
      "9\n",
      "State 42\n",
      "9\n",
      "State 43\n",
      "9\n",
      "State 44\n",
      "9\n",
      "State 45\n",
      "9\n",
      "State 46\n",
      "9\n",
      "State 47\n",
      "9\n",
      "State 48\n",
      "9\n",
      "State 49\n",
      "9\n",
      "State 50\n",
      "9\n",
      "State 51\n",
      "9\n",
      "State 52\n",
      "9\n",
      "State 53\n",
      "9\n",
      "State 54\n",
      "9\n",
      "State 55\n",
      "9\n",
      "State 56\n",
      "9\n",
      "State 57\n",
      "9\n",
      "State 58\n",
      "9\n",
      "State 59\n",
      "9\n",
      "State 60\n",
      "9\n",
      "State 61\n",
      "9\n",
      "State 62\n",
      "9\n",
      "State 63\n",
      "9\n",
      "State 64\n",
      "9\n",
      "State 65\n",
      "9\n",
      "State 66\n",
      "9\n",
      "State 67\n",
      "9\n",
      "State 68\n",
      "9\n",
      "State 69\n",
      "9\n",
      "State 70\n",
      "9\n",
      "State 71\n",
      "9\n",
      "State 72\n",
      "9\n",
      "State 73\n",
      "9\n",
      "State 74\n",
      "9\n",
      "State 75\n",
      "9\n",
      "State 76\n",
      "9\n",
      "State 77\n",
      "9\n",
      "State 78\n",
      "9\n",
      "State 79\n",
      "9\n",
      "State 80\n",
      "9\n",
      "State 81\n",
      "9\n",
      "State 82\n",
      "9\n",
      "State 83\n",
      "9\n"
     ]
    }
   ],
   "source": [
    "ansatz_sep = QuantumCircuit(3)\n",
    "params = ParameterVector('θ',9)\n",
    "ansatz_sep.ry(params[0],0)\n",
    "ansatz_sep.rx(params[1],0)\n",
    "ansatz_sep.rz(params[2],0)\n",
    "ansatz_sep.rx(params[3],1)\n",
    "ansatz_sep.ry(params[4],1)\n",
    "ansatz_sep.rz(params[5],1)\n",
    "ansatz_sep.rx(params[6],2)\n",
    "ansatz_sep.ry(params[7],2)\n",
    "ansatz_sep.rz(params[8],2)\n",
    "real_label= []\n",
    "q = 0\n",
    "geom_entr = []\n",
    "alpha_beta_gamma_bounds = (0, np.pi / 2)\n",
    "delta_bounds = (0, np.pi / 4)\n",
    "phi_bounds = (0, 2 * np.pi)\n",
    "for i in range(0,int(len(training)/8),3):\n",
    "    print(f'State {q}')\n",
    "    q+=1\n",
    "    x0 = np.random.rand(9) * 2 * np.pi\n",
    "    print(len(x0))\n",
    "    rand_num = np.random.rand()\n",
    "    # We select randomely if the generated state is entangled or not\n",
    "    if rand_num <= 1/2:   \n",
    "        rand_ent = np.random.rand()\n",
    "        real_label.append(1)\n",
    "        if rand_ent <= 1/2:\n",
    "            # Entangled state generator\n",
    "            qc = QuantumCircuit(3)\n",
    "            qc.unitary(Operator(training[i]), [0], label=\"U1\")\n",
    "            qc.h(1)\n",
    "            qc.cx(1,2)\n",
    "            U_ = np.kron(training[i+1],training[i+2])\n",
    "            qc.unitary(Operator(U_), [1,2], label=\"U2⊗U3\")\n",
    "        if False:\n",
    "            #elif rand_ent>1/3 and rand_ent<=2/3:\n",
    "            print('GHZ')\n",
    "            qc = QuantumCircuit(4)\n",
    "            delta,phi,alpha,beta,gamma = ParameterVector('param',5)\n",
    "            qc.ry(2 * delta,0)\n",
    "            qc.cx(0,1)\n",
    "            qc.cx(1,2)\n",
    "            qc.cx(2,3)\n",
    "            qc.barrier()\n",
    "            qc.cry(2 * alpha,0,1)\n",
    "            qc.cry(2 * beta,0,2)\n",
    "            qc.cry(2 * gamma,0,3)\n",
    "            qc.barrier()\n",
    "            qc.p(phi,1)\n",
    "            alpha_val = np.random.uniform(*alpha_beta_gamma_bounds)\n",
    "            beta_val = np.random.uniform(*alpha_beta_gamma_bounds)\n",
    "            gamma_val = np.random.uniform(*alpha_beta_gamma_bounds)\n",
    "            delta_val = np.random.uniform(*delta_bounds)\n",
    "            phi_val = np.random.uniform(*phi_bounds)\n",
    "            params = [delta_val, phi_val, alpha_val, beta_val, gamma_val]\n",
    "            bound_circuit = qc.assign_parameters(params)\n",
    "            final_state = Statevector.from_instruction(bound_circuit)\n",
    "            # Trace out qubit 0\n",
    "            reduced_state = partial_trace(final_state, [0])\n",
    "            print(type(reduced_state))\n",
    "            qc = reduced_state.to_circuit()\n",
    "        elif rand_ent>1/2:\n",
    "            a, b, c, d = np.random.rand(4)\n",
    "            norm = np.sqrt(a**2 + b**2 + c**2 + d**2)\n",
    "            # We normalize the probabilities so the quantum state is normalized\n",
    "            a, b, c, d = a/norm, b/norm, c/norm, d/norm\n",
    "            # Define state vector in computational basis order: |000>, |001>, ..., |111>\n",
    "            state_vector = [d, a, b, 0, c, 0, 0, 0]\n",
    "            # Initialize circuit\n",
    "            qc = QuantumCircuit(3)\n",
    "            qc.initialize(state_vector, [0, 1, 2])\n",
    "    elif rand_num>1/2:\n",
    "        # Separated state\n",
    "        real_label.append(0)\n",
    "        qc =QuantumCircuit(3)\n",
    "        qc.unitary(Operator(np.array(training[i])), [0], label=\"U0\")\n",
    "        qc.unitary(Operator(np.array(training[i+1])), [1], label=\"U1\")\n",
    "        qc.unitary(Operator(np.array(training[i+2])), [2], label=\"U2\")\n",
    "        qc.barrier()\n",
    "    res = minimize(cost_fun,x0,args = (qc,ansatz_sep,backend),method='cobyla',tol=0.1)\n",
    "    geom_entr.append(-res['fun'])"
   ]
  },
  {
   "cell_type": "code",
   "execution_count": 36,
   "metadata": {},
   "outputs": [
    {
     "data": {
      "text/plain": [
       "[1,\n",
       " 0,\n",
       " 1,\n",
       " 0,\n",
       " 1,\n",
       " 0,\n",
       " 0,\n",
       " 0,\n",
       " 0,\n",
       " 0,\n",
       " 0,\n",
       " 0,\n",
       " 0,\n",
       " 1,\n",
       " 1,\n",
       " 0,\n",
       " 0,\n",
       " 0,\n",
       " 0,\n",
       " 1,\n",
       " 0,\n",
       " 1,\n",
       " 1,\n",
       " 0,\n",
       " 0,\n",
       " 1,\n",
       " 0,\n",
       " 1,\n",
       " 0,\n",
       " 0,\n",
       " 1,\n",
       " 0,\n",
       " 0,\n",
       " 0,\n",
       " 1,\n",
       " 0,\n",
       " 1,\n",
       " 0,\n",
       " 0,\n",
       " 1,\n",
       " 0,\n",
       " 0,\n",
       " 0,\n",
       " 0,\n",
       " 1,\n",
       " 1,\n",
       " 1,\n",
       " 0,\n",
       " 1,\n",
       " 0,\n",
       " 0,\n",
       " 1,\n",
       " 0,\n",
       " 0,\n",
       " 0,\n",
       " 1,\n",
       " 0,\n",
       " 1,\n",
       " 0,\n",
       " 0,\n",
       " 1,\n",
       " 0,\n",
       " 1,\n",
       " 1,\n",
       " 1,\n",
       " 1,\n",
       " 0,\n",
       " 1,\n",
       " 1,\n",
       " 0,\n",
       " 1,\n",
       " 1,\n",
       " 0,\n",
       " 1,\n",
       " 1,\n",
       " 1,\n",
       " 1,\n",
       " 0,\n",
       " 1,\n",
       " 0,\n",
       " 0,\n",
       " 0,\n",
       " 1,\n",
       " 0]"
      ]
     },
     "execution_count": 36,
     "metadata": {},
     "output_type": "execute_result"
    }
   ],
   "source": [
    "real_label"
   ]
  },
  {
   "cell_type": "code",
   "execution_count": 42,
   "metadata": {},
   "outputs": [
    {
     "name": "stdout",
     "output_type": "stream",
     "text": [
      "[np.float64(0.7515254173381845), np.float64(0.005759182188784018), np.float64(0.5683246425132313), np.float64(0.0034189125612209548), np.float64(0.7529189638336409), np.float64(0.0059641514331825185), np.float64(0.007869995794607898), np.float64(0.00955185443970441), np.float64(0.004771755064035155), np.float64(0.003635814907326007), np.float64(0.0057469257690316855), np.float64(0.006561792174453296), np.float64(0.006467617988160312), np.float64(0.7516440012305682), np.float64(0.7508867270757176), np.float64(0.003806894760149282), np.float64(0.005901727591323014), np.float64(0.0044878459361140655), np.float64(0.007488288426209078), np.float64(0.7521753743093533), np.float64(0.007971584848419644), np.float64(0.7526997852302977), np.float64(0.13663753545394786), np.float64(0.005096817093798056), np.float64(0.003938994085103897), np.float64(0.7506353697358958), np.float64(0.006300020710464649), np.float64(0.5742809825069741), np.float64(0.009686200035493697), np.float64(0.0028937333862589787), np.float64(0.751942266852591), np.float64(0.006653666395281865), np.float64(0.002463009001699934), np.float64(0.003022742221326591), np.float64(0.7513552067808542), np.float64(0.006825057996619477), np.float64(0.7502512222467486), np.float64(0.006900227796229563), np.float64(0.011603875717501322), np.float64(0.3283237194447418), np.float64(0.006698682163197134), np.float64(0.003982781913652311), np.float64(0.004677792851785156), np.float64(0.0023309292811087845), np.float64(0.7518410633993153), np.float64(0.3373965407258642), np.float64(0.7520618030967614), np.float64(0.0020123731837929926), np.float64(0.7520560147729977), np.float64(0.006962194867205396), np.float64(0.0024504887759614347), np.float64(0.7506333233166471), np.float64(0.006184440193178542), np.float64(0.006022142306659206), np.float64(0.005781874402304821), np.float64(0.3029982998241503), np.float64(0.0036537968681785715), np.float64(0.751590439019957), np.float64(0.0059217916740696985), np.float64(0.004527403339523839), np.float64(0.0755146721308807), np.float64(0.0033634729283237297), np.float64(0.751753494152064), np.float64(0.29040897238848107), np.float64(0.7509631474918533), np.float64(0.1505045244290889), np.float64(0.005359482814452421), np.float64(0.7516465940361804), np.float64(0.7500367685209169), np.float64(0.0053206105232882495), np.float64(0.7505581900086635), np.float64(0.04392615560795177), np.float64(0.005405819215384189), np.float64(0.7515257715877952), np.float64(0.6351461079567259), np.float64(0.03213638642232297), np.float64(0.7506751527117963), np.float64(0.004610606553965835), np.float64(0.6170659119046078), np.float64(0.008351328287956039), np.float64(0.005052434970422293), np.float64(0.0051263777731863636), np.float64(0.7509057399595901), np.float64(0.0074995817481261495)]\n",
      "The method`s accuaracy is 98.80952380952381%\n"
     ]
    }
   ],
   "source": [
    "E = [(1 - p**2) for p in geom_entr]\n",
    "print(E)\n",
    "for i in range(len(E)):\n",
    "    # I set a bound at 0.1 for classification of separable and entangled\n",
    "    if E[i] < 0.01:\n",
    "        E[i]=0\n",
    "    elif E[i]>=0.01:\n",
    "        E[i]=1\n",
    "q= 0\n",
    "for z in range(len(real_label)):\n",
    "    if E[z]==real_label[z]:\n",
    "        q+=1\n",
    "print(f'The method`s accuaracy is {(q/len(real_label))*100}%')"
   ]
  },
  {
   "cell_type": "markdown",
   "metadata": {},
   "source": [
    "# TO DOS:\n",
    "1. Study the non-maximally entangled and mixed separable states.\n",
    "2. Consider SVM.\n",
    "3. Problem using GHZ parameterized state. GHZ using STATEVECTOR\n",
    "4. Cost function plot!!\n",
    "5. Separability and Entanglement theory."
   ]
  },
  {
   "cell_type": "markdown",
   "metadata": {},
   "source": []
  }
 ],
 "metadata": {
  "kernelspec": {
   "display_name": "Python 3",
   "language": "python",
   "name": "python3"
  },
  "language_info": {
   "codemirror_mode": {
    "name": "ipython",
    "version": 3
   },
   "file_extension": ".py",
   "mimetype": "text/x-python",
   "name": "python",
   "nbconvert_exporter": "python",
   "pygments_lexer": "ipython3",
   "version": "3.11.11"
  }
 },
 "nbformat": 4,
 "nbformat_minor": 2
}
