{
 "cells": [
  {
   "cell_type": "code",
   "execution_count": 2,
   "metadata": {},
   "outputs": [],
   "source": [
    "import json\n",
    "import numpy as np\n",
    "from qiskit.circuit import QuantumCircuit,QuantumRegister,ClassicalRegister\n",
    "from qiskit.circuit import ParameterVector\n",
    "from qiskit_aer import Aer\n",
    "from qiskit import transpile\n",
    "from qiskit_ibm_runtime import EstimatorV2 as Estimator\n",
    "from qiskit.quantum_info import SparsePauliOp,Operator, state_fidelity, Statevector, partial_trace, entropy\n",
    "import random\n",
    "from scipy.optimize import minimize, differential_evolution\n",
    "import pandas as pd\n",
    "import matplotlib.pyplot as plt\n",
    "import seaborn as sns"
   ]
  },
  {
   "cell_type": "markdown",
   "metadata": {},
   "source": [
    "# 2 qubit entanglement detection\n",
    "In this notebook I will se how we can detect 2 qubit entanglement using VQAs or similar procedures."
   ]
  },
  {
   "cell_type": "markdown",
   "metadata": {},
   "source": [
    "First we open the 4000 random unitaries form the json"
   ]
  },
  {
   "cell_type": "code",
   "execution_count": 3,
   "metadata": {},
   "outputs": [
    {
     "name": "stdout",
     "output_type": "stream",
     "text": [
      "4000\n"
     ]
    }
   ],
   "source": [
    "with open(r\"C:\\Users\\aquim\\OneDrive\\Desktop\\Master\\TFM\\random_unitaries_2q.json\", \"r\") as f:\n",
    "    loaded_data = json.load(f)\n",
    "\n",
    "# Convert back to NumPy arrays\n",
    "loaded_matrices = [\n",
    "    np.array(data[\"real\"]) + 1j * np.array(data[\"imag\"])\n",
    "    for data in loaded_data\n",
    "]\n",
    "print(len(loaded_matrices))"
   ]
  },
  {
   "cell_type": "markdown",
   "metadata": {},
   "source": [
    "We have now stored the 4000 complex matrices in the loaded_matrices vector.\n",
    "With this 4000 unitaries we will create a set of 2000 training states and 2000 test states.\n"
   ]
  },
  {
   "cell_type": "code",
   "execution_count": 4,
   "metadata": {},
   "outputs": [],
   "source": [
    "training = loaded_matrices[0:2000]\n",
    "test = loaded_matrices[2000:4000]"
   ]
  },
  {
   "cell_type": "code",
   "execution_count": 5,
   "metadata": {},
   "outputs": [
    {
     "data": {
      "text/plain": [
       "2000"
      ]
     },
     "execution_count": 5,
     "metadata": {},
     "output_type": "execute_result"
    }
   ],
   "source": [
    "len(training)"
   ]
  },
  {
   "cell_type": "markdown",
   "metadata": {},
   "source": [
    "## Geometric measure of entanglement "
   ]
  },
  {
   "cell_type": "markdown",
   "metadata": {},
   "source": [
    "The first method we will review is the entanglement detection through the geometric measure (GME). This is a monotone which provides a quantification of how close this state is to the closest possible separable state. This closeness is calculated using the fideleity:\n",
    "$$F(|\\psi\\rangle , |\\phi\\rangle) = |\\langle \\psi | \\phi \\rangle|^2 $$\n",
    "We de define GME as:\n",
    "$$E(|\\psi \\rangle) = 1 - \\Lambda_{\\psi}^2$$\n",
    "Where the $\\Lambda_{\\psi}$ is defined as:\n",
    "$$\\Lambda_{\\psi}^2 = max_{|\\phi\\rangle \\in SEP} F(|\\psi\\rangle , |\\phi\\rangle) $$\n",
    "If E is zero we have that the quantum state is separable, otherwise it is entangled.\n",
    "\n",
    "By maximazing the fidelity, we try to obtain the closest separable state to the one we want to classify. It is worth noting that this procedure is possible because the set of separable states is a convex set."
   ]
  },
  {
   "cell_type": "code",
   "execution_count": 6,
   "metadata": {},
   "outputs": [],
   "source": [
    "backend = Aer.get_backend('statevector_simulator')"
   ]
  },
  {
   "cell_type": "markdown",
   "metadata": {},
   "source": [
    "For the cost function, we calculate the fidelity the two circuits by using the fidelity function provided by qiskit."
   ]
  },
  {
   "cell_type": "code",
   "execution_count": 7,
   "metadata": {},
   "outputs": [],
   "source": [
    "def cost_fun(params,ansatz1,ansatz2,backend):\n",
    "    ansatz2 = ansatz2.assign_parameters(params)\n",
    "    isa_ansatz = transpile(ansatz1,backend=backend)\n",
    "    isa_ansatz2 = transpile(ansatz2,backend=backend)\n",
    "    sv1 = Statevector(isa_ansatz)\n",
    "    sv2 = Statevector(isa_ansatz2)\n",
    "    fid = state_fidelity(sv1,sv2)\n",
    "    return -fid"
   ]
  },
  {
   "cell_type": "markdown",
   "metadata": {},
   "source": [
    "For the benchmarking of this method, I define 3 quantum variational circuits:\n",
    "1. ansatz_sep: variational quantum circuit with 6 parameters. I selected this ansatz because the 3 possible rotations (rx,ry,rz) consider every single state in the Bloch Sphere for each qubit. There is no entangling gates, which makes this ansatz separable.\n",
    "2. qc: the first named qc quantum circuit creates the entangled state using the unitaries from the random unitary training dataset.\n",
    "3. qc: the second qc quantum circuit creates a separable state using the unitaries from the traininf dataset."
   ]
  },
  {
   "cell_type": "code",
   "execution_count": 7,
   "metadata": {},
   "outputs": [
    {
     "data": {
      "text/plain": [
       "250.0"
      ]
     },
     "execution_count": 7,
     "metadata": {},
     "output_type": "execute_result"
    }
   ],
   "source": [
    "len(training)/8"
   ]
  },
  {
   "cell_type": "code",
   "execution_count": null,
   "metadata": {},
   "outputs": [
    {
     "name": "stdout",
     "output_type": "stream",
     "text": [
      "State 0\n",
      "State 1\n",
      "State 2\n",
      "State 3\n",
      "State 4\n",
      "State 5\n",
      "State 6\n",
      "State 7\n",
      "State 8\n",
      "State 9\n",
      "State 10\n",
      "State 11\n",
      "State 12\n",
      "State 13\n",
      "State 14\n",
      "State 15\n",
      "State 16\n",
      "State 17\n",
      "State 18\n",
      "State 19\n",
      "State 20\n",
      "State 21\n",
      "State 22\n",
      "State 23\n",
      "State 24\n",
      "State 25\n",
      "State 26\n",
      "State 27\n",
      "State 28\n",
      "State 29\n",
      "State 30\n",
      "State 31\n",
      "State 32\n",
      "State 33\n",
      "State 34\n",
      "State 35\n",
      "State 36\n",
      "State 37\n",
      "State 38\n",
      "State 39\n",
      "State 40\n",
      "State 41\n",
      "State 42\n",
      "State 43\n",
      "State 44\n",
      "State 45\n",
      "State 46\n",
      "State 47\n",
      "State 48\n",
      "State 49\n",
      "State 50\n",
      "State 51\n",
      "State 52\n",
      "State 53\n",
      "State 54\n",
      "State 55\n",
      "State 56\n",
      "State 57\n",
      "State 58\n",
      "State 59\n",
      "State 60\n",
      "State 61\n",
      "State 62\n",
      "State 63\n",
      "State 64\n",
      "State 65\n",
      "State 66\n",
      "State 67\n",
      "State 68\n",
      "State 69\n",
      "State 70\n",
      "State 71\n",
      "State 72\n",
      "State 73\n",
      "State 74\n",
      "State 75\n",
      "State 76\n",
      "State 77\n",
      "State 78\n",
      "State 79\n",
      "State 80\n",
      "State 81\n",
      "State 82\n",
      "State 83\n",
      "State 84\n",
      "State 85\n",
      "State 86\n",
      "State 87\n",
      "State 88\n",
      "State 89\n",
      "State 90\n",
      "State 91\n",
      "State 92\n",
      "State 93\n",
      "State 94\n",
      "State 95\n",
      "State 96\n",
      "State 97\n",
      "State 98\n",
      "State 99\n",
      "State 100\n",
      "State 101\n",
      "State 102\n",
      "State 103\n",
      "State 104\n",
      "State 105\n",
      "State 106\n",
      "State 107\n",
      "State 108\n",
      "State 109\n",
      "State 110\n",
      "State 111\n",
      "State 112\n",
      "State 113\n",
      "State 114\n",
      "State 115\n",
      "State 116\n",
      "State 117\n",
      "State 118\n",
      "State 119\n",
      "State 120\n",
      "State 121\n",
      "State 122\n",
      "State 123\n",
      "State 124\n"
     ]
    }
   ],
   "source": [
    "ansatz_sep = QuantumCircuit(2)\n",
    "params = ParameterVector('θ',6)\n",
    "ansatz_sep.ry(params[0],0)\n",
    "ansatz_sep.rx(params[1],0)\n",
    "ansatz_sep.ry(params[2],1)\n",
    "ansatz_sep.rx(params[3],1)\n",
    "ansatz_sep.rz(params[4],0)\n",
    "ansatz_sep.rz(params[5],1)\n",
    "real_label= []\n",
    "q = 0\n",
    "geom_entr = []\n",
    "for i in range(0,int(len(training)/8),2):\n",
    "    print(f'State {q}')\n",
    "    q+=1\n",
    "    x0 = np.random.rand(6) * 2 * np.pi\n",
    "    rand_num = np.random.rand()\n",
    "    # We select randomely if the generated state is entangled or not\n",
    "    if rand_num <= 1/3:   \n",
    "        # Entangled state generator\n",
    "        real_label.append(1)\n",
    "        x0 = np.random.rand(6) * 2 * np.pi\n",
    "        qc =QuantumCircuit(2)\n",
    "        qc.h(0)# We first create the  Bell state\n",
    "        qc.cx(0,1)\n",
    "        U_ = np.kron(training[i],training[i+1])# We do the tensor product and create the entangled state\n",
    "        qc.unitary(Operator(U_), [0,1], label=\"U1⊗U2\")\n",
    "        qc.barrier()\n",
    "    elif rand_num>1/3 and rand_num<=2/3:\n",
    "        # Separated state\n",
    "        real_label.append(0)\n",
    "        x0 = np.random.rand(6) * 2 * np.pi\n",
    "        qc =QuantumCircuit(2)\n",
    "        U_ = np.kron(training[0],training[1])\n",
    "        qc.unitary(Operator(U_), [0,1], label=\"U1⊗U2\")\n",
    "        qc.barrier()\n",
    "    elif rand_num>2/3:\n",
    "        # Non maximally entangled state\n",
    "        real_label.append(1)\n",
    "        r = np.random.rand(4) # We create a vector of 4 random amplitudes\n",
    "        r_norm = r/np.linalg.norm(r) # We normalize the vector\n",
    "        phi = np.random.rand(4) * 2 * np.pi # We create a random phase\n",
    "        target_state = np.array([\n",
    "            r_norm[0] * np.exp(1j * phi[0]),\n",
    "            r_norm[1] * np.exp(1j * phi[1]),\n",
    "            r_norm[2] * np.exp(1j * phi[2]),\n",
    "            r_norm[3] * np.exp(1j * phi[3])\n",
    "        ])\n",
    "        target_state = Statevector(target_state)\n",
    "        qc = QuantumCircuit(2)\n",
    "        qc.initialize(target_state.data, [0, 1]) # We initialize the state\n",
    "        qc.barrier()\n",
    "    res = minimize(cost_fun,x0,args = (qc,ansatz_sep,backend),method='cobyla',tol=0.1)\n",
    "    geom_entr.append(-res['fun'])\n",
    "    "
   ]
  },
  {
   "cell_type": "code",
   "execution_count": 34,
   "metadata": {},
   "outputs": [
    {
     "name": "stdout",
     "output_type": "stream",
     "text": [
      "The method`s accuaracy is 99.2%\n"
     ]
    }
   ],
   "source": [
    "E = [(1 - p**2) for p in geom_entr]\n",
    "for i in range(len(E)):\n",
    "    # I set a bound at 0.1 for classification of separable and entangled\n",
    "    if E[i] < 0.01:\n",
    "        E[i]=0\n",
    "    elif E[i]>=0.01:\n",
    "        E[i]=1\n",
    "q= 0\n",
    "for z in range(len(real_label)):\n",
    "    if E[z]==real_label[z]:\n",
    "        q+=1\n",
    "print(f'The method`s accuaracy is {(q/len(real_label))*100}%')"
   ]
  },
  {
   "cell_type": "markdown",
   "metadata": {},
   "source": [
    "Now, I'll try to implement the detection of non-maximally entangled 2-qubit states. These are defined by:\n",
    "$$|\\psi\\rangle = \\sum_{j=1}^{4}r_j e^{i\\phi_j}|u_j\\rangle$$\n",
    "Where $r_j \\geq 0$, $\\phi_j \\in [0,2\\pi]$ and $\\sum_{j=1}^{4}r_j = 1$. For qiskit, the basis we will take is the computational basis for the 2 qubit states such that:\n",
    "* $|1\\rangle == |00\\rangle$\n",
    "* $|2\\rangle == |01\\rangle$\n",
    "* $|3\\rangle == |10\\rangle$\n",
    "* $|4\\rangle == |11\\rangle$"
   ]
  },
  {
   "cell_type": "code",
   "execution_count": null,
   "metadata": {},
   "outputs": [
    {
     "name": "stdout",
     "output_type": "stream",
     "text": [
      "0.5406816974042805\n"
     ]
    }
   ],
   "source": [
    "r = np.random.rand(4) # We create a vector of 4 random amplitudes\n",
    "r_norm = r/np.linalg.norm(r) # We normalize the vector\n",
    "phi = np.random.rand(4) * 2 * np.pi # We create a random phase\n",
    "target_state = np.array([\n",
    "    r_norm[0] * np.exp(1j * phi[0]),\n",
    "    r_norm[1] * np.exp(1j * phi[1]),\n",
    "    r_norm[2] * np.exp(1j * phi[2]),\n",
    "    r_norm[3] * np.exp(1j * phi[3])\n",
    "])\n",
    "target_state = Statevector(target_state)\n",
    "qc = QuantumCircuit(2)\n",
    "qc.initialize(target_state.data, [0, 1]) "
   ]
  },
  {
   "cell_type": "markdown",
   "metadata": {},
   "source": [
    "Once non-maximally entangled states are used, the 1-D classification is not as clear as with only maximally entangled and serparable states. For the purpose of increasing the result a 1-D SVD, as it was proposed may be a good idea."
   ]
  },
  {
   "cell_type": "markdown",
   "metadata": {},
   "source": [
    "# 3 qubits\n",
    "First, I will if the entanglement geometric monotone can differenciate for 3 qubit pure separable and entangled states."
   ]
  },
  {
   "cell_type": "markdown",
   "metadata": {},
   "source": [
    "For 3 qubits, as in the [NNpaper](https://www.nature.com/articles/s41598-024-68213-0), we consider the 4 possible classes os pure states:, which will be generated using:\n",
    "\n",
    "3. W entangled state:  $|\\psi_W\\rangle = K_W \\left( a|001\\rangle + b|010\\rangle + c|100\\rangle + d|000\\rangle \\right)$\n",
    "\n",
    "\n",
    "\n",
    "\\begin{aligned}\n",
    "K_{\\text{GHZ}} &= \\frac{1}{1 + \\cos(\\delta) \\sin(\\delta) \\cos(\\alpha) \\cos(\\beta) \\cos(\\varphi)} \\\\\n",
    "K_W &= \\frac{1}{\\sqrt{a^2 + b^2 + c^2 + d^2}}\n",
    "\\end{aligned}\n",
    "\n",
    "Some of this parameters are bounded:$(a , b ,c,d)\\in (0,1)$."
   ]
  },
  {
   "cell_type": "markdown",
   "metadata": {},
   "source": [
    "1. Separable:  $|\\psi_{\\text{sep}}^{\\text{rand}}\\rangle_3 = U_1^{\\text{rand}} |0\\rangle \\otimes U_2^{\\text{rand}} |0\\rangle \\otimes U_3^{\\text{rand}} |0\\rangle$"
   ]
  },
  {
   "cell_type": "code",
   "execution_count": 6,
   "metadata": {},
   "outputs": [
    {
     "data": {
      "image/png": "[encoded data removed]",
      "text/plain": [
       "<Figure size 203.885x284.278 with 1 Axes>"
      ]
     },
     "execution_count": 6,
     "metadata": {},
     "output_type": "execute_result"
    }
   ],
   "source": [
    "qc = QuantumCircuit(3)\n",
    "qc.unitary(Operator(training[0]), [0], label=\"U1\")\n",
    "qc.unitary(Operator(training[1]), [1], label=\"U2\")\n",
    "qc.unitary(Operator(training[2]), [2], label=\"U3\")\n",
    "qc.draw('mpl')"
   ]
  },
  {
   "cell_type": "markdown",
   "metadata": {},
   "source": [
    "2. Bipartite entangled:  $\\psi_{BE}=U_1^{rand}|0\\rangle \\otimes \\left(U_2^{rand} \\otimes U_3^{rand}\\right) |\\psi_+\\rangle$"
   ]
  },
  {
   "cell_type": "code",
   "execution_count": 7,
   "metadata": {},
   "outputs": [
    {
     "data": {
      "image/png": "[encoded data removed]",
      "text/plain": [
       "<Figure size 454.719x284.278 with 1 Axes>"
      ]
     },
     "execution_count": 7,
     "metadata": {},
     "output_type": "execute_result"
    }
   ],
   "source": [
    "qc = QuantumCircuit(3)\n",
    "qc.unitary(Operator(training[0]), [0], label=\"U1\")\n",
    "qc.h(1)\n",
    "qc.cx(1,2)\n",
    "U_ = np.kron(training[1],training[2])\n",
    "qc.unitary(Operator(U_), [1,2], label=\"U2⊗U3\")\n",
    "qc.draw('mpl')"
   ]
  },
  {
   "cell_type": "markdown",
   "metadata": {},
   "source": [
    "3. GHZ states:  $|\\Psi_{\\text{GHZ}}\\rangle = \\sqrt{K_{\\text{GHZ}}} \\left( \\cos(\\delta)|0\\rangle|0\\rangle|0\\rangle + \\sin(\\delta)e^{i\\phi} |\\varphi_A\\rangle |\\varphi_B\\rangle |\\varphi_C\\rangle \\right)$\n",
    "\n",
    "Where we find:\n",
    "\n",
    "\\begin{aligned}\n",
    "|\\varphi_A\\rangle &= \\cos(\\alpha)|0\\rangle + \\sin(\\alpha)|1\\rangle \\\\\n",
    "|\\varphi_B\\rangle &= \\cos(\\beta)|0\\rangle + \\sin(\\beta)|1\\rangle \\\\\n",
    "|\\varphi_C\\rangle &= \\cos(\\gamma)|0\\rangle + \\sin(\\gamma)|1\\rangle\\\\\n",
    "K_{\\text{GHZ}} &= \\frac{1}{1 + \\cos(\\delta) \\sin(\\delta) \\cos(\\alpha) \\cos(\\beta) \\cos(\\varphi)}\n",
    "\\end{aligned}\n",
    "Where this parameters are bounded as: $(\\alpha , \\beta ,\\gamma)\\in (0,\\pi/2]$, $\\delta\\in (0,\\pi/4]$ and $\\phi\\in [0,2\\pi)$"
   ]
  },
  {
   "cell_type": "markdown",
   "metadata": {},
   "source": [
    "For this, I considered 4 qubits as to encode the cos(delta) sin(delta) I'll need to us a conditional rotation. Also, to encode the $\\phi$ states the Ry gate we'll be needed as, acting on $|0\\rangle$ it produces the desired states because:\n",
    "$$RY(\\theta) =\n",
    "\\begin{pmatrix}\n",
    "\\cos\\left(\\frac{\\theta}{2}\\right) & -\\sin\\left(\\frac{\\theta}{2}\\right) \\\\\n",
    "\\sin\\left(\\frac{\\theta}{2}\\right) & \\cos\\left(\\frac{\\theta}{2}\\right)\n",
    "\\end{pmatrix}$$"
   ]
  },
  {
   "cell_type": "markdown",
   "metadata": {},
   "source": [
    "We need to say that it is important to only apply a second layer of RY if and only if the state is in |1>. For this purpose we need to use the conditional ry rotations."
   ]
  },
  {
   "cell_type": "code",
   "execution_count": 8,
   "metadata": {},
   "outputs": [
    {
     "data": {
      "image/png": "[encoded data removed]",
      "text/plain": [
       "<Figure size 1207.22x284.278 with 1 Axes>"
      ]
     },
     "execution_count": 8,
     "metadata": {},
     "output_type": "execute_result"
    }
   ],
   "source": [
    "alpha_beta_gamma_bounds = (0, np.pi / 2)\n",
    "delta_bounds = (0, np.pi / 4)\n",
    "phi_bounds = (0, 2 * np.pi)\n",
    "alpha = np.random.uniform(*alpha_beta_gamma_bounds)\n",
    "beta = np.random.uniform(*alpha_beta_gamma_bounds)\n",
    "gamma = np.random.uniform(*alpha_beta_gamma_bounds)\n",
    "delta = np.random.uniform(*delta_bounds)\n",
    "phi = np.random.uniform(*phi_bounds)\n",
    "# Compute components\n",
    "cos_d = np.cos(delta)\n",
    "sin_d = np.sin(delta)\n",
    "cos_phi = np.cos(phi)\n",
    "cos_alpha = np.cos(alpha)\n",
    "cos_beta = np.cos(beta)\n",
    "cos_gamma = np.cos(gamma)\n",
    "sin_alpha = np.sin(alpha)\n",
    "sin_beta = np.sin(beta)\n",
    "sin_gamma = np.sin(gamma)\n",
    "# Component 000\n",
    "amp_000 = cos_d\n",
    "\n",
    "# |φ_A φ_B φ_C>\n",
    "phi_A = np.array([np.cos(alpha), np.sin(alpha)])\n",
    "phi_B = np.array([np.cos(beta), np.sin(beta)])\n",
    "phi_C = np.array([np.cos(gamma), np.sin(gamma)])\n",
    "\n",
    "# Tensor product\n",
    "phi_ABC = np.kron(np.kron(phi_A, phi_B), phi_C)\n",
    "amp_phi = sin_d * np.exp(1j * phi)\n",
    "\n",
    "# Normalization constant, using this normalization there is some error as it doesn't return 1 for the normalized state, thus I will normalize the state using numpy normalization\n",
    "K_GHZ = 1 / (1 + cos_d * sin_d * cos_alpha * cos_beta * cos_gamma * cos_phi)\n",
    "sqrt_K = np.sqrt(K_GHZ)\n",
    "\n",
    "# Full state vector\n",
    "state = np.zeros(8, dtype=complex)\n",
    "state[0] = amp_000\n",
    "state += amp_phi * phi_ABC\n",
    "norm = np.linalg.norm(state)\n",
    "state /= norm\n",
    "# Create Statevector object\n",
    "psi = Statevector(state)\n",
    "qc = QuantumCircuit(3)\n",
    "qc.initialize(psi, [0, 1, 2])\n",
    "qc.draw('mpl')\n"
   ]
  },
  {
   "cell_type": "markdown",
   "metadata": {},
   "source": [
    "3. W-states\n",
    "For these states, we will use the following parameterized state:\n",
    "$$|\\psi_W \\rangle  = K_W \\left( a|001\\rangle + b|010\\rangle + c|100\\rangle + d |000\\rangle \\right)$$\n",
    "Where the parameters (a,b,c,d) are random parameters generated from a plain distribution in the interval (0,1)."
   ]
  },
  {
   "cell_type": "code",
   "execution_count": 10,
   "metadata": {},
   "outputs": [
    {
     "data": {
      "image/png": "[encoded data removed]",
      "text/plain": [
       "<Figure size 454.719x284.278 with 1 Axes>"
      ]
     },
     "execution_count": 10,
     "metadata": {},
     "output_type": "execute_result"
    }
   ],
   "source": [
    "\n",
    "a, b, c, d = np.random.rand(4)\n",
    "\n",
    "# Normalize\n",
    "norm = np.sqrt(a**2 + b**2 + c**2 + d**2)\n",
    "# We normalize the probabilities so the quantum state is normalized\n",
    "a, b, c, d = a/norm, b/norm, c/norm, d/norm\n",
    "\n",
    "# Define state vector in computational basis order: |000>, |001>, ..., |111>\n",
    "state_vector = [d, a, b, 0, c, 0, 0, 0]\n",
    "\n",
    "# Initialize circuit\n",
    "qc = QuantumCircuit(3)\n",
    "qc.initialize(state_vector, [0, 1, 2])\n",
    "qc.draw('mpl')"
   ]
  },
  {
   "cell_type": "markdown",
   "metadata": {},
   "source": [
    "## Three qubit entanglement detection"
   ]
  },
  {
   "cell_type": "code",
   "execution_count": 19,
   "metadata": {},
   "outputs": [],
   "source": [
    "def cost_fun(params,ansatz1,ansatz2,backend,cost_evolution_dict,q):\n",
    "    ansatz2 = ansatz2.assign_parameters(params)\n",
    "    isa_ansatz = transpile(ansatz1,backend=backend)\n",
    "    isa_ansatz2 = transpile(ansatz2,backend=backend)\n",
    "    sv1 = Statevector(isa_ansatz)\n",
    "    sv2 = Statevector(isa_ansatz2)\n",
    "    fid = state_fidelity(sv1,sv2)\n",
    "    cost_evolution_dict[f\"state_{q}\"][\"cost\"].append(-fid)\n",
    "    cost_evolution_dict[f\"state_{q}\"][\"angles\"].append(params)\n",
    "    cost_evolution_dict[f\"state_{q}\"][\"iteration\"].append(len(cost_evolution_dict[f\"state_{q}\"][\"iteration\"])+1)\n",
    "    return -fid"
   ]
  },
  {
   "cell_type": "code",
   "execution_count": 21,
   "metadata": {},
   "outputs": [
    {
     "name": "stdout",
     "output_type": "stream",
     "text": [
      "State 0\n",
      "Separable\n",
      "State 1\n",
      "Separable\n",
      "State 2\n",
      "GHZ\n",
      "State 3\n",
      "Separable\n",
      "State 4\n",
      "Separable\n",
      "State 5\n",
      "Separable\n",
      "State 6\n",
      "W state\n",
      "State 7\n",
      "Bipartite\n",
      "State 8\n",
      "Separable\n",
      "State 9\n",
      "GHZ\n",
      "State 10\n",
      "Separable\n",
      "State 11\n",
      "Separable\n",
      "State 12\n",
      "Separable\n",
      "State 13\n",
      "Separable\n",
      "State 14\n",
      "W state\n",
      "State 15\n",
      "Separable\n",
      "State 16\n",
      "Bipartite\n",
      "State 17\n",
      "GHZ\n",
      "State 18\n",
      "Separable\n",
      "State 19\n",
      "GHZ\n",
      "State 20\n",
      "W state\n",
      "State 21\n",
      "Separable\n",
      "State 22\n",
      "Separable\n",
      "State 23\n",
      "GHZ\n",
      "State 24\n",
      "W state\n",
      "State 25\n",
      "W state\n",
      "State 26\n",
      "Bipartite\n",
      "State 27\n",
      "Bipartite\n",
      "State 28\n",
      "GHZ\n",
      "State 29\n",
      "Bipartite\n",
      "State 30\n",
      "Bipartite\n",
      "State 31\n",
      "W state\n",
      "State 32\n",
      "GHZ\n",
      "State 33\n",
      "Bipartite\n",
      "State 34\n",
      "Separable\n",
      "State 35\n",
      "Separable\n",
      "State 36\n",
      "Bipartite\n",
      "State 37\n",
      "Bipartite\n",
      "State 38\n",
      "Separable\n",
      "State 39\n",
      "Separable\n",
      "State 40\n",
      "Bipartite\n",
      "State 41\n",
      "GHZ\n",
      "State 42\n",
      "GHZ\n",
      "State 43\n",
      "Separable\n",
      "State 44\n",
      "Separable\n",
      "State 45\n",
      "Bipartite\n",
      "State 46\n",
      "Separable\n",
      "State 47\n",
      "GHZ\n",
      "State 48\n",
      "Separable\n",
      "State 49\n",
      "Separable\n",
      "State 50\n",
      "GHZ\n",
      "State 51\n",
      "Separable\n",
      "State 52\n",
      "Separable\n",
      "State 53\n",
      "Bipartite\n",
      "State 54\n",
      "Separable\n",
      "State 55\n",
      "Separable\n"
     ]
    }
   ],
   "source": [
    "ansatz_sep = QuantumCircuit(3)\n",
    "params = ParameterVector('θ',9)\n",
    "ansatz_sep.ry(params[0],0)\n",
    "ansatz_sep.rx(params[1],0)\n",
    "ansatz_sep.rz(params[2],0)\n",
    "ansatz_sep.rx(params[3],1)\n",
    "ansatz_sep.ry(params[4],1)\n",
    "ansatz_sep.rz(params[5],1)\n",
    "ansatz_sep.rx(params[6],2)\n",
    "ansatz_sep.ry(params[7],2)\n",
    "ansatz_sep.rz(params[8],2)\n",
    "real_label= []\n",
    "q = 0\n",
    "geom_entr = []\n",
    "alpha_beta_gamma_bounds = (0, np.pi / 2)\n",
    "delta_bounds = (0, np.pi / 4)\n",
    "phi_bounds = (0, 2 * np.pi)\n",
    "cost_evolution_dict = {}\n",
    "for i in range(0,int(len(training)/12),3):\n",
    "    print(f'State {q}')\n",
    "    cost_evolution_dict[f\"state_{q}\"] = {\"cost\":[],\n",
    "                                     \"iteration\":[],\n",
    "                                     \"angles\":[]}\n",
    "    x0 = np.random.rand(9) * 2 * np.pi\n",
    "    rand_num = np.random.rand()\n",
    "    # We select randomely if the generated state is entangled or not\n",
    "    if rand_num <= 1/2:   \n",
    "        rand_ent = np.random.rand()\n",
    "        real_label.append(1)\n",
    "        if rand_ent <= 1/3:\n",
    "            print('Bipartite')\n",
    "            qc = QuantumCircuit(3)\n",
    "            qc.unitary(Operator(training[i]), [0], label=\"U1\")\n",
    "            qc.h(1)\n",
    "            qc.cx(1,2)\n",
    "            U_ = np.kron(training[i+1],training[i+2])\n",
    "            qc.unitary(Operator(U_), [1,2], label=\"U2⊗U3\")\n",
    "        elif rand_ent>1/3 and rand_ent<=2/3:\n",
    "            print('GHZ')\n",
    "            alpha = np.random.uniform(*alpha_beta_gamma_bounds)\n",
    "            beta = np.random.uniform(*alpha_beta_gamma_bounds)\n",
    "            gamma = np.random.uniform(*alpha_beta_gamma_bounds)\n",
    "            delta = np.random.uniform(*delta_bounds)\n",
    "            phi = np.random.uniform(*phi_bounds)\n",
    "            cos_d = np.cos(delta)\n",
    "            sin_d = np.sin(delta)\n",
    "            cos_phi = np.cos(phi)\n",
    "            amp_000 = cos_d\n",
    "            phi_A = np.array([np.cos(alpha), np.sin(alpha)])\n",
    "            phi_B = np.array([np.cos(beta), np.sin(beta)])\n",
    "            phi_C = np.array([np.cos(gamma), np.sin(gamma)])\n",
    "            phi_ABC = np.kron(np.kron(phi_A, phi_B), phi_C)\n",
    "            amp_phi = sin_d * np.exp(1j * phi)\n",
    "            state = np.zeros(8, dtype=complex)\n",
    "            state[0] = amp_000\n",
    "            state += amp_phi * phi_ABC\n",
    "            norm = np.linalg.norm(state)\n",
    "            state /= norm\n",
    "            psi = Statevector(state)\n",
    "            qc = QuantumCircuit(3)\n",
    "            qc.initialize(state_vector, [0, 1, 2])\n",
    "        elif rand_ent>2/3:\n",
    "            print('W state')\n",
    "            a, b, c, d = np.random.rand(4)\n",
    "            norm = np.sqrt(a**2 + b**2 + c**2 + d**2)\n",
    "            # We normalize the probabilities so the quantum state is normalized\n",
    "            a, b, c, d = a/norm, b/norm, c/norm, d/norm\n",
    "            # Define state vector in computational basis order: |000>, |001>, ..., |111>\n",
    "            state_vector = [d, a, b, 0, c, 0, 0, 0]\n",
    "            # Initialize circuit\n",
    "            qc = QuantumCircuit(3)\n",
    "            qc.initialize(state_vector, [0, 1, 2])\n",
    "    elif rand_num>1/2:\n",
    "        print(\"Separable\")\n",
    "        real_label.append(0)\n",
    "        qc =QuantumCircuit(3)\n",
    "        qc.unitary(Operator(np.array(training[i])), [0], label=\"U0\")\n",
    "        qc.unitary(Operator(np.array(training[i+1])), [1], label=\"U1\")\n",
    "        qc.unitary(Operator(np.array(training[i+2])), [2], label=\"U2\")\n",
    "        qc.barrier()\n",
    "    res = minimize(cost_fun,x0,args = (qc,ansatz_sep,backend,cost_evolution_dict,q),method='cobyla',tol=0.1)\n",
    "    q+=1\n",
    "    geom_entr.append(-res['fun'])"
   ]
  },
  {
   "cell_type": "code",
   "execution_count": 32,
   "metadata": {},
   "outputs": [
    {
     "name": "stdout",
     "output_type": "stream",
     "text": [
      "[np.float64(0.007611004538161326), np.float64(0.0122763226395034), np.float64(0.32481803936342624), np.float64(0.005157747451609795), np.float64(0.004461595813374242), np.float64(0.0047306677226196525), np.float64(0.3663894943427284), np.float64(0.7504085707157244), np.float64(0.008131607316604783), np.float64(0.36638909326880853), np.float64(0.004086541987061931), np.float64(0.0057959671793037515), np.float64(0.003854018418461669), np.float64(0.0044133699776559565), np.float64(0.3296233785897337), np.float64(0.00935272821078803), np.float64(0.751545992386297), np.float64(0.32047016237080006), np.float64(0.002914578744754981), np.float64(0.32198109357508975), np.float64(0.061918383758281514), np.float64(0.004694454852983365), np.float64(0.007526918846780251), np.float64(0.062377628444636124), np.float64(0.28399780471079994), np.float64(0.11593495478692761), np.float64(0.7502493955878202), np.float64(0.7507877524415384), np.float64(0.1122539317336817), np.float64(0.7511065765346472), np.float64(0.7513908862852057), np.float64(0.34638060467652476), np.float64(0.3451356979765555), np.float64(0.7529926633319602), np.float64(0.00405271880109026), np.float64(0.0032018991989180012), np.float64(0.7522563124672894), np.float64(0.7514724786304435), np.float64(0.0024303438932177235), np.float64(0.005623027596850738), np.float64(0.751695420303987), np.float64(0.34868955193360485), np.float64(0.3448084338892955), np.float64(0.005356357980657034), np.float64(0.0024724102979601925), np.float64(0.7526704105375955), np.float64(0.002770600152180114), np.float64(0.34624703599596185), np.float64(0.005928409726994932), np.float64(0.002733047471501604), np.float64(0.3531990000221832), np.float64(0.0027069642556758478), np.float64(0.006569784238508292), np.float64(0.8488146246972854), np.float64(0.005580519151620611), np.float64(0.001413475222719951)]\n",
      "The method`s accuaracy is 98.21428571428571%\n"
     ]
    }
   ],
   "source": [
    "E = [(1 - p**2) for p in geom_entr]\n",
    "print(E)\n",
    "for i in range(len(E)):\n",
    "    # I set a bound at 0.1 for classification of separable and entangled\n",
    "    if E[i] < 0.01:\n",
    "        E[i]=0\n",
    "    elif E[i]>=0.01:\n",
    "        E[i]=1\n",
    "q= 0\n",
    "for z in range(len(real_label)):\n",
    "    if E[z]==real_label[z]:\n",
    "        q+=1\n",
    "print(f'The method`s accuaracy is {(q/len(real_label))*100}%')"
   ]
  },
  {
   "cell_type": "markdown",
   "metadata": {},
   "source": [
    "## Study of entanglement meassure for each entagled state\n",
    "In this part I study the numerical value of the entanglement meassure for each type of the entangled states to see if any classification through this meassure is possible"
   ]
  },
  {
   "cell_type": "code",
   "execution_count": 11,
   "metadata": {},
   "outputs": [],
   "source": [
    "def cost_fun(params,ansatz1,ansatz2,backend,ev_dict,q):\n",
    "    ansatz2 = ansatz2.assign_parameters(params)\n",
    "    isa_ansatz = transpile(ansatz1,backend=backend)\n",
    "    isa_ansatz2 = transpile(ansatz2,backend=backend)\n",
    "    sv1 = Statevector(isa_ansatz)\n",
    "    sv2 = Statevector(isa_ansatz2)\n",
    "    fid = state_fidelity(sv1,sv2)\n",
    "    ev_dict[f\"state_{q}\"][\"cost\"].append(-fid)\n",
    "    ev_dict[f\"state_{q}\"][\"angles\"].append(params)\n",
    "    return -fid"
   ]
  },
  {
   "cell_type": "code",
   "execution_count": 13,
   "metadata": {},
   "outputs": [
    {
     "name": "stdout",
     "output_type": "stream",
     "text": [
      "State 1\n",
      "State 2\n",
      "State 3\n",
      "State 4\n",
      "State 5\n",
      "State 6\n",
      "State 7\n",
      "State 8\n",
      "State 9\n",
      "State 10\n",
      "State 11\n",
      "State 12\n",
      "State 13\n",
      "State 14\n"
     ]
    }
   ],
   "source": [
    "q= 0\n",
    "for i in range(0,int(len(training)/50),3):\n",
    "    q+=1\n",
    "    print(f'State {q}')"
   ]
  },
  {
   "cell_type": "code",
   "execution_count": 14,
   "metadata": {},
   "outputs": [
    {
     "name": "stdout",
     "output_type": "stream",
     "text": [
      "State 0\n",
      "Bipartite\n",
      "State 1\n",
      "Bipartite\n",
      "State 2\n",
      "Bipartite\n",
      "State 3\n",
      "Bipartite\n",
      "State 4\n",
      "Bipartite\n",
      "State 5\n",
      "Bipartite\n",
      "State 6\n",
      "Bipartite\n",
      "State 7\n",
      "Bipartite\n",
      "State 8\n",
      "Bipartite\n",
      "State 9\n",
      "Bipartite\n",
      "State 10\n",
      "Bipartite\n",
      "State 11\n",
      "Bipartite\n",
      "State 12\n",
      "Bipartite\n",
      "State 13\n",
      "Bipartite\n"
     ]
    }
   ],
   "source": [
    "ansatz_sep = QuantumCircuit(3)\n",
    "params = ParameterVector('θ',9)\n",
    "ansatz_sep.ry(params[0],0)\n",
    "ansatz_sep.rx(params[1],0)\n",
    "ansatz_sep.rz(params[2],0)\n",
    "ansatz_sep.rx(params[3],1)\n",
    "ansatz_sep.ry(params[4],1)\n",
    "ansatz_sep.rz(params[5],1)\n",
    "ansatz_sep.rx(params[6],2)\n",
    "ansatz_sep.ry(params[7],2)\n",
    "ansatz_sep.rz(params[8],2)\n",
    "q = 0\n",
    "geom_entr_bipartite = []\n",
    "cost_evolution_dict_bipartite = {}\n",
    "for i in range(0,int(len(training)/50),3):\n",
    "    print(f'State {q}')\n",
    "    cost_evolution_dict_bipartite[f\"state_{q}\"] = {\"cost\":[],\n",
    "                                     \"iteration\":[],\n",
    "                                     \"angles\":[]}\n",
    "    x0 = np.random.rand(9) * 2 * np.pi\n",
    "    print('Bipartite')\n",
    "    qc = QuantumCircuit(3)\n",
    "    qc.unitary(Operator(training[i]), [0], label=\"U1\")\n",
    "    qc.h(1)\n",
    "    qc.cx(1,2)\n",
    "    U_ = np.kron(training[i+1],training[i+2])\n",
    "    qc.unitary(Operator(U_), [1,2], label=\"U2⊗U3\")\n",
    "    res = minimize(cost_fun,x0,args = (qc,ansatz_sep,backend,cost_evolution_dict_bipartite,q),method='cobyla',tol=0.01)\n",
    "    q+=1\n",
    "    geom_entr_bipartite.append(-res['fun'])"
   ]
  },
  {
   "cell_type": "code",
   "execution_count": 15,
   "metadata": {},
   "outputs": [
    {
     "name": "stdout",
     "output_type": "stream",
     "text": [
      "State 0\n",
      "[5.01544391 1.47594812 1.07618131 0.61262753 1.889981   4.36000554\n",
      " 1.63335974 3.84818915 1.73615392]\n",
      "GHZ\n",
      "State 1\n",
      "[0.76269709 1.74098784 5.29661444 2.55954762 1.92607975 3.25574753\n",
      " 4.3578341  0.94508116 3.82838782]\n",
      "GHZ\n",
      "State 2\n",
      "[4.44477751 5.12559897 3.78871786 2.68891232 1.64160998 4.50792243\n",
      " 5.26736213 5.86727309 5.25060337]\n",
      "GHZ\n",
      "State 3\n",
      "[2.23122466 3.53077745 0.96820209 2.36461776 2.03723147 3.14354443\n",
      " 2.40637227 5.91022692 0.95618868]\n",
      "GHZ\n",
      "State 4\n",
      "[3.9889664  0.56370608 5.17740204 1.09418629 5.70867464 5.32618757\n",
      " 1.98801206 6.00733513 1.63979273]\n",
      "GHZ\n",
      "State 5\n",
      "[2.15955696 4.99879935 2.05364344 0.24732275 1.65514533 5.87802784\n",
      " 2.46961161 2.10813116 3.98483041]\n",
      "GHZ\n",
      "State 6\n",
      "[5.32927357 0.05276703 5.77267597 3.3085917  5.83945429 4.33608674\n",
      " 5.05067117 3.38161609 4.29993691]\n",
      "GHZ\n",
      "State 7\n",
      "[5.69392168 2.69415706 4.30352555 2.43621666 3.38875419 2.95369907\n",
      " 2.55002268 0.19774259 4.69529116]\n",
      "GHZ\n",
      "State 8\n",
      "[1.57034671 3.90083186 2.64437166 5.60420407 3.42793577 2.61977625\n",
      " 4.17887267 4.0417333  1.96619248]\n",
      "GHZ\n",
      "State 9\n",
      "[5.9936033  0.72284825 4.32948132 1.71809998 1.39137365 1.06153562\n",
      " 3.35298308 3.01803899 2.15110303]\n",
      "GHZ\n",
      "State 10\n",
      "[2.62276456 5.85373181 5.78994055 2.58442469 5.70862862 0.47221106\n",
      " 6.26321183 2.29983297 4.9234656 ]\n",
      "GHZ\n",
      "State 11\n",
      "[0.73467205 0.80356373 4.57528104 5.83182061 4.57951422 5.55342388\n",
      " 1.95314789 3.25326886 4.85523288]\n",
      "GHZ\n",
      "State 12\n",
      "[3.04346434 0.94466028 4.45156288 6.05918444 2.16056363 3.96900799\n",
      " 1.85994113 0.44405273 0.29306044]\n",
      "GHZ\n",
      "State 13\n",
      "[5.13607715 3.28623375 5.34138743 2.4070771  1.3364035  4.56875043\n",
      " 3.69477515 2.402982   1.57256713]\n",
      "GHZ\n"
     ]
    }
   ],
   "source": [
    "params = ParameterVector('θ',9)\n",
    "ansatz_sep = QuantumCircuit(3)\n",
    "ansatz_sep.ry(params[0],0)\n",
    "ansatz_sep.rx(params[1],0)\n",
    "ansatz_sep.rz(params[2],0)\n",
    "ansatz_sep.rx(params[3],1)\n",
    "ansatz_sep.ry(params[4],1)\n",
    "ansatz_sep.rz(params[5],1)\n",
    "ansatz_sep.rx(params[6],2)\n",
    "ansatz_sep.ry(params[7],2)\n",
    "ansatz_sep.rz(params[8],2)\n",
    "alpha_beta_gamma_bounds = (0, np.pi / 2)\n",
    "delta_bounds = (0, np.pi / 4)\n",
    "phi_bounds = (0, 2 * np.pi)\n",
    "q = 0\n",
    "geom_entr_GHZ = []\n",
    "cost_evolution_dict_GHZ = {}\n",
    "for i in range(0,int(len(training)/50),3):\n",
    "    print(f'State {q}')\n",
    "    cost_evolution_dict_GHZ[f\"state_{q}\"] = {\"cost\":[],\n",
    "                                     \"iteration\":[],\n",
    "                                     \"angles\":[]}\n",
    "    x0 = np.random.rand(9) * 2 * np.pi\n",
    "    print(x0)\n",
    "    print('GHZ')\n",
    "    alpha = np.random.uniform(*alpha_beta_gamma_bounds)\n",
    "    beta = np.random.uniform(*alpha_beta_gamma_bounds)\n",
    "    gamma = np.random.uniform(*alpha_beta_gamma_bounds)\n",
    "    delta = np.random.uniform(*delta_bounds)\n",
    "    phi = np.random.uniform(*phi_bounds)\n",
    "    cos_d = np.cos(delta)\n",
    "    sin_d = np.sin(delta)\n",
    "    cos_phi = np.cos(phi)\n",
    "    amp_000 = cos_d\n",
    "    phi_A = np.array([np.cos(alpha), np.sin(alpha)])\n",
    "    phi_B = np.array([np.cos(beta), np.sin(beta)])\n",
    "    phi_C = np.array([np.cos(gamma), np.sin(gamma)])\n",
    "    phi_ABC = np.kron(np.kron(phi_A, phi_B), phi_C)\n",
    "    amp_phi = sin_d * np.exp(1j * phi)\n",
    "    state = np.zeros(8, dtype=complex)\n",
    "    state[0] = amp_000\n",
    "    state += amp_phi * phi_ABC\n",
    "    norm = np.linalg.norm(state)\n",
    "    state /= norm\n",
    "    psi = Statevector(state)\n",
    "    qc = QuantumCircuit(3)\n",
    "    qc.initialize(psi, [0, 1, 2])\n",
    "    res = minimize(cost_fun,x0,args = (qc,ansatz_sep,backend,cost_evolution_dict_GHZ,q),method='cobyla',tol=0.01)\n",
    "    q+=1\n",
    "    geom_entr_GHZ.append(-res['fun'])"
   ]
  },
  {
   "cell_type": "code",
   "execution_count": 16,
   "metadata": {},
   "outputs": [
    {
     "name": "stdout",
     "output_type": "stream",
     "text": [
      "State 0\n",
      "W state\n",
      "State 1\n",
      "W state\n",
      "State 2\n",
      "W state\n",
      "State 3\n",
      "W state\n",
      "State 4\n",
      "W state\n",
      "State 5\n",
      "W state\n",
      "State 6\n",
      "W state\n",
      "State 7\n",
      "W state\n",
      "State 8\n",
      "W state\n",
      "State 9\n",
      "W state\n",
      "State 10\n",
      "W state\n",
      "State 11\n",
      "W state\n",
      "State 12\n",
      "W state\n",
      "State 13\n",
      "W state\n"
     ]
    }
   ],
   "source": [
    "params = ParameterVector('θ',9)\n",
    "ansatz_sep = QuantumCircuit(3)\n",
    "ansatz_sep.ry(params[0],0)\n",
    "ansatz_sep.rx(params[1],0)\n",
    "ansatz_sep.rz(params[2],0)\n",
    "ansatz_sep.rx(params[3],1)\n",
    "ansatz_sep.ry(params[4],1)\n",
    "ansatz_sep.rz(params[5],1)\n",
    "ansatz_sep.rx(params[6],2)\n",
    "ansatz_sep.ry(params[7],2)\n",
    "ansatz_sep.rz(params[8],2)\n",
    "q = 0\n",
    "geom_entr_W = []\n",
    "cost_evolution_dict_W = {}\n",
    "for i in range(0,int(len(training)/50),3):\n",
    "    print(f'State {q}')\n",
    "    cost_evolution_dict_W[f\"state_{q}\"] = {\"cost\":[],\n",
    "                                     \"iteration\":[],\n",
    "                                     \"angles\":[]}\n",
    "    x0 = np.random.rand(9) * 2 * np.pi\n",
    "    print('W state')\n",
    "    a, b, c, d = np.random.rand(4)\n",
    "    norm = np.sqrt(a**2 + b**2 + c**2 + d**2)\n",
    "    # We normalize the probabilities so the quantum state is normalized\n",
    "    a, b, c, d = a/norm, b/norm, c/norm, d/norm\n",
    "    # Define state vector in computational basis order: |000>, |001>, ..., |111>\n",
    "    state_vector = [d, a, b, 0, c, 0, 0, 0]\n",
    "    # Initialize circuit\n",
    "    qc = QuantumCircuit(3)\n",
    "    qc.initialize(state_vector, [0, 1, 2])\n",
    "    res = minimize(cost_fun,x0,args = (qc,ansatz_sep,backend,cost_evolution_dict_W,q),method='cobyla',tol=0.01)\n",
    "    q+=1\n",
    "    geom_entr_W.append(-res['fun'])"
   ]
  },
  {
   "cell_type": "code",
   "execution_count": 27,
   "metadata": {},
   "outputs": [],
   "source": [
    "E_GHZ = [(1 - p**2) for p in geom_entr_GHZ]\n",
    "E_W = [(1 - p**2) for p in geom_entr_W]\n",
    "E_bi = [(1 - p**2) for p in geom_entr_bipartite]\n",
    "data = pd.DataFrame({\n",
    "    'Geometric Entanglement': E_GHZ + E_W + E_bi,\n",
    "    'State Type': ['GHZ']*len(E_GHZ) + ['W']*len(E_W) + ['Bipartite']*len(E_bi)\n",
    "})\n",
    "data.to_csv('ent_measure_3qub.csv')"
   ]
  },
  {
   "cell_type": "code",
   "execution_count": 23,
   "metadata": {},
   "outputs": [
    {
     "name": "stderr",
     "output_type": "stream",
     "text": [
      "C:\\Users\\aquim\\AppData\\Local\\Temp\\ipykernel_9772\\202996685.py:8: FutureWarning: \n",
      "\n",
      "Passing `palette` without assigning `hue` is deprecated and will be removed in v0.14.0. Assign the `x` variable to `hue` and set `legend=False` for the same effect.\n",
      "\n",
      "  sns.boxplot(data=data, x='State Type', y='Geometric Entanglement',palette=palette,width=0.5)\n"
     ]
    },
    {
     "data": {
      "image/png": "[encoded data removed]",
      "text/plain": [
       "<Figure size 640x480 with 1 Axes>"
      ]
     },
     "metadata": {},
     "output_type": "display_data"
    }
   ],
   "source": [
    "\n",
    "sns.set(style=\"whitegrid\")\n",
    "palette = {\n",
    "    'GHZ': sns.color_palette(\"Set1\")[0],\n",
    "    'W': sns.color_palette(\"Set1\")[1],\n",
    "    'Bipartite': sns.color_palette(\"Set1\")[2],\n",
    "}\n",
    "# Create a boxplot\n",
    "sns.boxplot(data=data, x='State Type', y='Geometric Entanglement',palette=palette,width=0.5)\n",
    "#sns.stripplot(data=data, x='State Type', y='Geometric Entanglement', color='blue', size=6, jitter=True, alpha=0.5)\n",
    "\n",
    "plt.title('Entanglement measurement value for different 3 qubit entangled states')\n",
    "plt.ylabel('Geometric Entanglement')\n",
    "plt.xlabel('State Type')\n",
    "plt.show()"
   ]
  },
  {
   "cell_type": "markdown",
   "metadata": {},
   "source": [
    "# TO DOS:\n",
    "1. Study the non-maximally entangled and mixed separable states.\n",
    "2. Consider SVM.\n",
    "3. Problem using GHZ parameterized state. GHZ using STATEVECTOR✅\n",
    "4. Cost function plot!!✅\n",
    "5. Separability and Entanglement theory.\n",
    "6. ¿Try to differenciate between entangled states? Maybe check the entanglement meassure. ❔​\n",
    "7. Maybe try executing circuits and not using the statevector simulator.\n",
    "8. Improve optimizer and lower tolerance.\n",
    "9. signal vs background\n",
    "10. roc curve\n",
    "11. confussion matrix"
   ]
  }
 ],
 "metadata": {
  "kernelspec": {
   "display_name": "Python 3",
   "language": "python",
   "name": "python3"
  },
  "language_info": {
   "codemirror_mode": {
    "name": "ipython",
    "version": 3
   },
   "file_extension": ".py",
   "mimetype": "text/x-python",
   "name": "python",
   "nbconvert_exporter": "python",
   "pygments_lexer": "ipython3",
   "version": "3.11.11"
  }
 },
 "nbformat": 4,
 "nbformat_minor": 2
}
